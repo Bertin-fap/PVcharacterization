{
 "cells": [
  {
   "cell_type": "code",
   "execution_count": null,
   "metadata": {},
   "outputs": [],
   "source": [
    "# Standard library imports\n",
    "import os\n",
    "import sys\n",
    "from pathlib import Path\n",
    "\n",
    "# 3rd party imports\n",
    "import numpy as np\n",
    "import matplotlib.pyplot as plt\n",
    "import pandas as pd\n",
    "\n",
    "#in_dir = r\"C:\\Users\\franc\\PVcharacterization_files\"\n",
    "#in_dir = r\"C:\\Users\\AC265100\\PVcharacterization_files\"\n",
    "in_dir = \"/Users/amal/PVcharacterization_files\"\n",
    "\n",
    "mylist = [name for name in os.listdir(in_dir) if name.endswith(\".csv\")]\n",
    "mylist.sort()\n",
    "\n",
    "filename = in_dir / Path(mylist[0])\n",
    "print(filename,'\\n')\n",
    "\n",
    "header_length = 83\n",
    "if sys.platform == 'win32': \n",
    "    data_deb = header_length*2-1\n",
    "elif sys.platform == 'darwin':\n",
    "    data_deb = header_length\n",
    "\n",
    "meta_data = pd.read_csv(filename,\n",
    "                 sep=',',\n",
    "                 nrows=header_length,\n",
    "                 header=None\n",
    "                 ) # reads the meta data\n",
    "meta_data = dict(zip(meta_data[0],meta_data[1]))\n",
    "meta_data = {key.split(':')[0]:val for key,val  in meta_data.items()}\n",
    "\n",
    "df = pd.read_csv(filename,\n",
    "                 sep=',',\n",
    "                 skiprows=data_deb,\n",
    "                 ) # reads the data\n",
    "print(df)"
   ]
  },
  {
   "cell_type": "code",
   "execution_count": null,
   "metadata": {},
   "outputs": [],
   "source": [
    "index_data_header = [0]\n",
    "for ind,x in enumerate(df[' Voltage:    ']):\n",
    "    if ('Volt' in x) or  ('Ref Cell' in x):\n",
    "        index_data_header.append(ind)\n",
    "\n",
    "index_data_header.append(len(df))\n",
    "print(index_data_header)\n",
    "list_df = []\n",
    "\n",
    "delta=0\n",
    "for i in range(len(index_data_header)-1):\n",
    "    if i !=0 :\n",
    "        delta=1\n",
    "    list_df.append(df.iloc[df.index.isin(range(index_data_header[i]+delta,\n",
    "                                               index_data_header[i+1]))])  \n",
    "\n",
    "#print(df.iloc[[3820]])"
   ]
  },
  {
   "cell_type": "code",
   "execution_count": null,
   "metadata": {},
   "outputs": [],
   "source": [
    "def drop_wrong_values(df):\n",
    "    x = []\n",
    "    y = []\n",
    "    for data_x,data_y in zip(df[' Voltage:    '],df[' Current:']):\n",
    "        try:\n",
    "            data_x = float(data_x)\n",
    "            if data_x != 0.0:\n",
    "                x.append(data_x)\n",
    "                y.append(float(data_y))\n",
    "        except:\n",
    "            pass\n",
    "    return(x,y)\n",
    "color =[\"r\",'g','b']\n",
    "\n",
    "\n",
    "x,y = drop_wrong_values(list_df[4])\n",
    "plt.plot(x,y) #,c=color[i])\n",
    "#plt.xlim(199.5,200.8)\n",
    "\n",
    "#plt.ylim(0,0.1)\n",
    "\n",
    "    "
   ]
  },
  {
   "cell_type": "code",
   "execution_count": null,
   "metadata": {},
   "outputs": [],
   "source": []
  }
 ],
 "metadata": {
  "kernelspec": {
   "display_name": "PVcharacterization",
   "language": "python",
   "name": "pvcharacterization"
  },
  "language_info": {
   "codemirror_mode": {
    "name": "ipython",
    "version": 3
   },
   "file_extension": ".py",
   "mimetype": "text/x-python",
   "name": "python",
   "nbconvert_exporter": "python",
   "pygments_lexer": "ipython3",
   "version": "3.8.8"
  },
  "latex_envs": {
   "LaTeX_envs_menu_present": true,
   "autoclose": false,
   "autocomplete": true,
   "bibliofile": "biblio.bib",
   "cite_by": "apalike",
   "current_citInitial": 1,
   "eqLabelWithNumbers": true,
   "eqNumInitial": 1,
   "hotkeys": {
    "equation": "Ctrl-E",
    "itemize": "Ctrl-I"
   },
   "labels_anchors": false,
   "latex_user_defs": false,
   "report_style_numbering": false,
   "user_envs_cfg": false
  },
  "varInspector": {
   "cols": {
    "lenName": 16,
    "lenType": 16,
    "lenVar": 40
   },
   "kernels_config": {
    "python": {
     "delete_cmd_postfix": "",
     "delete_cmd_prefix": "del ",
     "library": "var_list.py",
     "varRefreshCmd": "print(var_dic_list())"
    },
    "r": {
     "delete_cmd_postfix": ") ",
     "delete_cmd_prefix": "rm(",
     "library": "var_list.r",
     "varRefreshCmd": "cat(var_dic_list()) "
    }
   },
   "types_to_exclude": [
    "module",
    "function",
    "builtin_function_or_method",
    "instance",
    "_Feature"
   ],
   "window_display": false
  }
 },
 "nbformat": 4,
 "nbformat_minor": 4
}
