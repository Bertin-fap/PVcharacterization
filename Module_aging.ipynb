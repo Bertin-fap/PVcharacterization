{
 "cells": [
  {
   "cell_type": "markdown",
   "metadata": {},
   "source": [
    "# Multiple plotting of modules parameters, acquired by the flash test technique, after different treatments\n",
    "\n",
    "### Introduction\n",
    "This programm plots the module parameters versus the irradiance for various module treatment. The parameters are acquired using the flash test method.\n",
    "<br/>\n",
    "The module parameters, as well as the I/V curves, are stored in .csv files which names obeys the following format:\n",
    "- UUUdddd_ddddW_Td.csv with U=[A-Z,-,_] and d=[1-9]. We have:\n",
    "  - UUUdddd_dddd is the module type the number of U is unlimited  and the  the number of digits d is limited to 50\n",
    "  - ddddW is the irradiande in W/m^2. The number of digits d must be equal to 4.\n",
    "  - Td is the treatment label. The numer of digit d is equal to 1.\n",
    "These files are stored in the *data_folder* and all its sub folders\n",
    "and can be parsed by the function *data_parsing(filepath, parse_all=True)*\n",
    "\n",
    "### Description\n",
    "</br></br>\n",
    "The program:\n",
    "1. Interactevelly defines the *data_folder* where *data_folder* must be locate is the users home directory.\n",
    "2. Recursivelly builds the list of all .csv file located in the folder *data_folder* and its sub-folders.\n",
    "3. Interactivelly selects the list modules to be analysed and build the dataframe *df_meta* containing all the data necessary to the plotting of the modules parameters\n",
    "4. Interactivelly defines the list of tuple [(T(i),T(j))], where T(i) stands for the ieme treatment.\n",
    "5. Interactivelly convert the symbolic items T(i) into the name of the treatment.\n",
    "6. For *n_params* parameters interactivelly sectected plots the *n_params* the parameters relative variation between two treatments T(k) and T(h):\n",
    "    \n",
    "   $$100\\frac{{Para{m_i}(Irradiance(n);T(h),module(m)) - Para{m_i}(Irradiance(n);T(k),module(m))}}{{Para{m_i}(Irradiance(n);T(k),module(m))}}$$\n",
    "   \n",
    "### Module description\n",
    "   \n",
    "The program relies on the module *PVcharacterization_Utils* containig the following libraries:\n",
    "1. PVcharacterization_GUI \n",
    "    - input_treatment_labels\n",
    "    - select_items\n",
    "    - select_files\n",
    "    - select_data_dir\n",
    "2. PVcharacterization_flashtest \n",
    "    - assess_path_folders\n",
    "    - build_files_database\n",
    "    - build_metadata_dataframe\n",
    "    - build_modules_filenames\n",
    "    - build_modules_list\n",
    "    - correct_filename\n",
    "    - data_dashboard\n",
    "    - df2sqlite\n",
    "    - parse_filename\n",
    "    - pv_flashtest_pca\n",
    "    - read_flashtest_file\n",
    "    - sieve_files\n",
    "3. PVcharacterization_global \n",
    "    - DEFAULT_DIR (Path.home())\n",
    "    - DATA_BASE_NAME\n",
    "    - DATA_BASE_TABLE_FILE\n",
    "    - DATA_BASE_TABLE_EXP\n",
    "    - COL_NAMES\n",
    "    - PARAM_UNIT_DIC\n",
    "    - IRRADIANCE_DEFAULT_LIST\n",
    "    - TREATMENT_DEFAULT_LIST\n",
    "4. PVcharacterization_image (not used)\n",
    "    - crop_image\n",
    "    - py2gwyddion\n",
    "    - read_electolum_file\n",
    "5. PVcharacterization_plot\n",
    "    - construct_x_y\n",
    "    - init_plot_diff\n",
    "    - plot_params \n",
    "    - plot_params_diff\n",
    "    \n",
    "    \n",
    "### Nomenclature:\n",
    " - module-type (mod): ex. QCELL-2739, QCELLS901719162417702739\n",
    " - parameters (param): ex. Pmax, Voc, Isc, Fill Factor, Rseries\n",
    " - irradiance (irr): irradiance in W/m^2 \n",
    " - treatment (trt): treatment type T0, T1, T2,T2,..."
   ]
  },
  {
   "cell_type": "code",
   "execution_count": 2,
   "metadata": {},
   "outputs": [
    {
     "name": "stdout",
     "output_type": "stream",
     "text": [
      "16 flash test files was detected.\n",
      "df_files_descp and the data base table PV_descp in C:\\Users\\franc\\PVcharacterization_files\\flash test\\SERAPHIN\\pv.db are built\n",
      "Correction of filenames (y,n)?y\n"
     ]
    },
    {
     "ename": "FileExistsError",
     "evalue": "[WinError 183] Impossible de créer un fichier déjà existant: 'C:\\\\Users\\\\franc\\\\PVcharacterization_files\\\\flash test\\\\SERAPHIN\\\\SERAPHIM-EM-0686_0200W_T4.csv' -> 'C:\\\\Users\\\\franc\\\\PVcharacterization_files\\\\flash test\\\\SERAPHIN\\\\SERAPHIM-EM7621190702200654_0200W_T4.csv'",
     "output_type": "error",
     "traceback": [
      "\u001b[1;31m---------------------------------------------------------------------------\u001b[0m",
      "\u001b[1;31mFileExistsError\u001b[0m                           Traceback (most recent call last)",
      "\u001b[1;32mC:\\Users\\Public\\Documents\\Wondershare\\CreatorTemp/ipykernel_21560/418914288.py\u001b[0m in \u001b[0;36m<module>\u001b[1;34m\u001b[0m\n\u001b[0;32m     17\u001b[0m \u001b[1;32mif\u001b[0m \u001b[0mfilenames_correct\u001b[0m\u001b[1;33m==\u001b[0m\u001b[1;34m'y'\u001b[0m\u001b[1;33m:\u001b[0m\u001b[1;33m\u001b[0m\u001b[1;33m\u001b[0m\u001b[0m\n\u001b[0;32m     18\u001b[0m     \u001b[0mverb\u001b[0m \u001b[1;33m=\u001b[0m \u001b[1;32mFalse\u001b[0m\u001b[1;33m\u001b[0m\u001b[1;33m\u001b[0m\u001b[0m\n\u001b[1;32m---> 19\u001b[1;33m     \u001b[0mstatus\u001b[0m \u001b[1;33m=\u001b[0m \u001b[0mpv\u001b[0m\u001b[1;33m.\u001b[0m\u001b[0mbatch_filename_correction\u001b[0m\u001b[1;33m(\u001b[0m\u001b[0mdata_folder\u001b[0m\u001b[1;33m,\u001b[0m \u001b[0mverbose\u001b[0m\u001b[1;33m=\u001b[0m\u001b[0mverb\u001b[0m\u001b[1;33m)\u001b[0m\u001b[1;33m\u001b[0m\u001b[1;33m\u001b[0m\u001b[0m\n\u001b[0m\u001b[0;32m     20\u001b[0m     \u001b[0mprint\u001b[0m\u001b[1;33m(\u001b[0m\u001b[0mstatus\u001b[0m\u001b[1;33m)\u001b[0m\u001b[1;33m\u001b[0m\u001b[1;33m\u001b[0m\u001b[0m\n",
      "\u001b[1;32m~\\PyVenv\\PVcharaterization\\PVcharacterization_Utils\\PVcharacterization_flashtest.py\u001b[0m in \u001b[0;36mbatch_filename_correction\u001b[1;34m(data_folder, verbose)\u001b[0m\n\u001b[0;32m    729\u001b[0m             \u001b[0mprint\u001b[0m\u001b[1;33m(\u001b[0m\u001b[1;34mf'new name: {corrected_filename}'\u001b[0m\u001b[1;33m)\u001b[0m\u001b[1;33m\u001b[0m\u001b[1;33m\u001b[0m\u001b[0m\n\u001b[0;32m    730\u001b[0m             \u001b[0mprint\u001b[0m\u001b[1;33m(\u001b[0m\u001b[1;33m)\u001b[0m\u001b[1;33m\u001b[0m\u001b[1;33m\u001b[0m\u001b[0m\n\u001b[1;32m--> 731\u001b[1;33m         \u001b[0mos\u001b[0m\u001b[1;33m.\u001b[0m\u001b[0mrename\u001b[0m\u001b[1;33m(\u001b[0m\u001b[0mfilename\u001b[0m\u001b[1;33m,\u001b[0m\u001b[0mcorrected_filename\u001b[0m\u001b[1;33m)\u001b[0m\u001b[1;33m\u001b[0m\u001b[1;33m\u001b[0m\u001b[0m\n\u001b[0m\u001b[0;32m    732\u001b[0m \u001b[1;33m\u001b[0m\u001b[0m\n\u001b[0;32m    733\u001b[0m     \u001b[0mstatus\u001b[0m \u001b[1;33m=\u001b[0m \u001b[1;34m'Correction done on :'\u001b[0m\u001b[1;33m+\u001b[0m \u001b[1;34m', '\u001b[0m\u001b[1;33m.\u001b[0m\u001b[0mjoin\u001b[0m\u001b[1;33m(\u001b[0m\u001b[0mlist_mod_selected\u001b[0m\u001b[1;33m[\u001b[0m\u001b[1;36m1\u001b[0m\u001b[1;33m:\u001b[0m\u001b[1;33m]\u001b[0m\u001b[1;33m)\u001b[0m \u001b[1;33m+\u001b[0m \u001b[1;34m'\\nnew name: '\u001b[0m \u001b[1;33m+\u001b[0m \u001b[0mnew_moduletype_name\u001b[0m\u001b[1;33m\u001b[0m\u001b[1;33m\u001b[0m\u001b[0m\n",
      "\u001b[1;31mFileExistsError\u001b[0m: [WinError 183] Impossible de créer un fichier déjà existant: 'C:\\\\Users\\\\franc\\\\PVcharacterization_files\\\\flash test\\\\SERAPHIN\\\\SERAPHIM-EM-0686_0200W_T4.csv' -> 'C:\\\\Users\\\\franc\\\\PVcharacterization_files\\\\flash test\\\\SERAPHIN\\\\SERAPHIM-EM7621190702200654_0200W_T4.csv'"
     ]
    }
   ],
   "source": [
    "''' \n",
    "    Creation: 2021.09.13\n",
    "    Last update: 2021.11.03\n",
    "\n",
    "    User specific paths definition\n",
    "\n",
    "'''\n",
    "# Local imports \n",
    "import PVcharacterization_Utils as pv\n",
    "\n",
    "data_folder = pv.assess_path_folders()\n",
    "_ = pv.build_files_database(data_folder)\n",
    "\n",
    "# Correction of wrong filenames\n",
    "filename_correct = 'n'\n",
    "filenames_correct = input('Correction of filenames (y,n)?')\n",
    "if filenames_correct=='y':\n",
    "    verb = False\n",
    "    status = pv.batch_filename_correction(data_folder, verbose=verb)\n",
    "    print(status)"
   ]
  },
  {
   "cell_type": "code",
   "execution_count": null,
   "metadata": {},
   "outputs": [],
   "source": [
    "''' Creation: 2021.10.17\n",
    "    Last update: 2021.10.17\n",
    "    \n",
    "    df_meta dataframe building from selected files in database DATA_BASE_NAME\n",
    "    and PCA analysis\n",
    "    \n",
    "'''\n",
    "# Local imports\n",
    "import PVcharacterization_Utils as pv\n",
    "\n",
    "df_files_descp = pv.sqlite_to_dataframe(data_folder,pv.DATA_BASE_TABLE_FILE)\n",
    "\n",
    "df_meta = pv.build_metadata_dataframe(df_files_descp,data_folder)\n",
    "print(df_meta.describe())\n",
    "df_meta_pca = pv.pv_flashtest_pca(df_meta,scree_plot = False,interactive_plot=True)"
   ]
  },
  {
   "cell_type": "code",
   "execution_count": null,
   "metadata": {},
   "outputs": [],
   "source": [
    "''' Creation: 2021.10.03\n",
    "    Last update: 2021.26.10\n",
    "    \n",
    "    Interactive choice of the treatment differences\n",
    "    \n",
    "    ''' \n",
    "# Local imports\n",
    "import PVcharacterization_Utils as pv\n",
    "PLOT_PARAMS_DICT={'markers': [\"o\", \"+\", \"s\", \"<\", \">\", \"p\", \"1\", \"2\", \"3\", \"4\"],\n",
    "                     'marker_colors': ['#0000A0','#1569C7','#78f89d','#FFEB3B','#E64A19'],\n",
    "                     'marker_size': 30,\n",
    "                     'legend_fontsize': 14,\n",
    "                     'ticks_fontsize': 12,\n",
    "                     'labels_fontsize': 12,\n",
    "                     'title_fontsize':16,\n",
    "                     'fig_width': 12, \n",
    "                     'fig_height_unit': 2,\n",
    "                     'fig_title_height': 1,\n",
    "                     'bbox_x0': 0.25, \n",
    "                     'bbox_y0': 0.25, \n",
    "                     'bbox_width': 1, \n",
    "                     'bbox_height': 1,\n",
    "                     'irr_add_nbr':0.5}\n",
    "\n",
    "df_files_descp = pv.sqlite_to_dataframe(data_folder,pv.DATA_BASE_TABLE_FILE)\n",
    "df_meta = pv.build_metadata_dataframe(df_files_descp,data_folder)\n",
    "list_diff = pv.init_plot_diff(df_meta)\n",
    "dic_trt_meaning = pv.input_treatment_labels(list_diff)\n",
    "#list_params = ['Pmax','Voc','Isc','Fill Factor','Rseries','bidon','trarmiz']\n",
    "#list_diff = []\n",
    "pv.plot_params_diff(df_meta,\n",
    "                    list_diff,\n",
    "                    None,\n",
    "                    dic_trt_meaning,\n",
    "                    long_label=False,\n",
    "                    plot_params_dict=PLOT_PARAMS_DICT)\n"
   ]
  },
  {
   "cell_type": "code",
   "execution_count": null,
   "metadata": {},
   "outputs": [],
   "source": [
    "''' Creation: 2021.09.19\n",
    "    Last update: 2021.10.22\n",
    "    \n",
    "    Plotting of I/V curves.\n",
    "    \n",
    "    ''' \n",
    "# Local imports\n",
    "import PVcharacterization_Utils as pv\n",
    "\n",
    "df_files_descp = pv.sqlite_to_dataframe(data_folder,pv.DATA_BASE_TABLE_FILE)\n",
    "list_mod_selected = pv.build_modules_list(df_files_descp,data_folder)\n",
    "irr_select = [200,400,600,800,1000,2000,4000]\n",
    "trt_select = [\"T0\", \"T1\", \"T2\", \"T3\", \"T4\"]\n",
    "pv.plot_iv_curves(irr_select,list_mod_selected,trt_select,data_folder)"
   ]
  },
  {
   "cell_type": "code",
   "execution_count": null,
   "metadata": {},
   "outputs": [],
   "source": [
    "''' Creation: 2021.10.20\n",
    "    Last update: 2021.10.21\n",
    "Build a dashboard\n",
    "\n",
    "'''\n",
    "# Local imports\n",
    "import PVcharacterization_Utils as pv\n",
    "\n",
    "df_files_descp = pv.sqlite_to_dataframe(data_folder,pv.DATA_BASE_TABLE_FILE)\n",
    "list_params = ['Pmax','Voc','Isc','Fill Factor','Rseries',]\n",
    "df_meta_dashboard =  pv.data_dashboard(df_files_descp,data_folder,list_params)\n",
    "df_meta_dashboard"
   ]
  },
  {
   "cell_type": "code",
   "execution_count": null,
   "metadata": {},
   "outputs": [],
   "source": [
    "import matplotlib.pyplot as plt\n",
    "\n",
    "import PVcharacterization_Utils as pv\n",
    "\n",
    "df_files_descp = pv.sqlite_to_fataframe(data_folder,pv.DATA_BASE_TABLE_FILE)\n",
    "df_meta = pv.build_metadata_dataframe(df_files_descp,data_folder)\n",
    "g = df_meta.pivot(values= ['Pmax','irradiance'],index=['module_type','treatment',],\n",
    "              columns=['irradiance',]) \n",
    "x = g.loc['QCELLS901919162417702719','T0'] ['irradiance'].to_numpy()\n",
    "y = g.loc['QCELLS901919162417702719','T0'] ['Pmax'].to_numpy()\n",
    "plt.scatter(x,y)"
   ]
  },
  {
   "cell_type": "markdown",
   "metadata": {},
   "source": [
    "# TO DO\n",
    "- complete parse_filename\n",
    "- deal with spurious files\n",
    "- git push\n",
    "- read sqlite datase"
   ]
  },
  {
   "cell_type": "code",
   "execution_count": null,
   "metadata": {},
   "outputs": [],
   "source": [
    "'''Creation: 2021.11.03\n",
    "    Last update: 2021.11.04\n",
    "Plot IV curves\n",
    "'''\n",
    "\n",
    "import matplotlib.pyplot as plt\n",
    "# Get dataframe describing the experimental files\n",
    "df_files_descp = pv.sqlite_to_dataframe(data_folder,pv.DATA_BASE_TABLE_FILE)   \n",
    "\n",
    "# Select the module types which names has to be corrected\n",
    "list_mod_selected = pv.build_modules_list(df_files_descp,data_folder)\n",
    "iv_curve = {pv.parse_filename(file): pv.read_flashtest_file(file).IV0 \n",
    "            for file in pv.build_modules_filenames(list_mod_selected,data_folder)}\n",
    "\n",
    "colors = {'T0':'r','T3':'k'}\n",
    "markers = {'EM7621190702200776':'x',\n",
    "           'EM7621190702200818':'x',\n",
    "           'SERAPHIM-EM7621190702200646':'v',\n",
    "           'SERAPHIM-EM7621190702200656':'v'}\n",
    "fig = plt.figure(figsize=(15,15))\n",
    "for name,value in iv_curve.items():\n",
    "    plt.scatter(value[\"Voltage\"][::70],\n",
    "                value[\"Current\"][::70],\n",
    "                s=80,\n",
    "                label=f'{name.module_type} {name.treatment}',\n",
    "                c=colors[name.treatment],\n",
    "                marker=markers[name.module_type],\n",
    "                alpha=1)\n",
    "    \n",
    "_ = plt.legend()"
   ]
  },
  {
   "cell_type": "code",
   "execution_count": null,
   "metadata": {},
   "outputs": [],
   "source": [
    "'''Creation: 2021.11.03\n",
    "    Last update: 2021.11.09\n",
    "Example of corrected IV curves\n",
    "'''\n",
    "#file = 'QCELLS-901919162417702764_1000W_T3.csv'\n",
    "import PVcharacterization_Utils as pv\n",
    "pv.plot_iv_power()"
   ]
  },
  {
   "cell_type": "code",
   "execution_count": null,
   "metadata": {},
   "outputs": [],
   "source": [
    "'''Creation: 2021.11.03\n",
    "    Last update: 2021.11.09\n",
    "Builds a dadaframe wit ff,ff_cor,Isc,Isc_cor,100(ff_cor-ff)/ff_cor\n",
    "'''\n",
    "\n",
    "import os\n",
    "from pathlib import Path\n",
    "\n",
    "import pandas as pd\n",
    "\n",
    "list_files = []\n",
    "list_ff = []\n",
    "list_ff_cor = []\n",
    "list_isc0 =[]\n",
    "list_isc0_cor = []\n",
    "\n",
    "for file in Path(data_folder).rglob(\"*.csv\"):\n",
    "    answ =  pv.read_flashtest_file(file, parse_all=True)\n",
    "    voltage = answ.IV0[\"Voltage\"]\n",
    "    current = answ.IV0[\"Current\"]\n",
    "    current_cor = pv.correct_iv_curve(voltage,current)\n",
    "    pmax = max(voltage*current)\n",
    "    voc = max(voltage)\n",
    "    ff = pmax / (current[0] * voc)\n",
    "    ff_cor = pmax / (current_cor[0] * voc)\n",
    "    list_ff.append(ff)\n",
    "    list_ff_cor.append(ff_cor)  \n",
    "    list_isc0.append(current[0])\n",
    "    list_isc0_cor.append(current_cor[0] )\n",
    "    list_files.append(file)\n",
    "    \n",
    "df = pd.DataFrame.from_dict({'file':list_files,\n",
    "                             'ff':list_ff,'ff_cor':list_ff_cor,\n",
    "                             'Isc':list_isc0,\n",
    "                             'Isc_cor':list_isc0_cor})\n",
    "df['delta_ff_pc'] = df.apply(lambda row: 100*(row['ff_cor']-row['ff'])/row['ff_cor'],axis=1)\n",
    "dg = df.query('delta_ff_pc>0.1')\n",
    "dg.loc[197,'file']"
   ]
  },
  {
   "cell_type": "code",
   "execution_count": null,
   "metadata": {},
   "outputs": [],
   "source": [
    "df.max()"
   ]
  },
  {
   "cell_type": "code",
   "execution_count": null,
   "metadata": {},
   "outputs": [],
   "source": [
    "df.loc[df['delta_ff_pc'].idxmax(),'file']"
   ]
  },
  {
   "cell_type": "code",
   "execution_count": null,
   "metadata": {},
   "outputs": [],
   "source": [
    "import matplotlib.pyplot as plt\n",
    "plt.hist(df['delta_ff_pc'],bins=15)"
   ]
  },
  {
   "cell_type": "code",
   "execution_count": null,
   "metadata": {},
   "outputs": [],
   "source": []
  }
 ],
 "metadata": {
  "kernelspec": {
   "display_name": "PVcharacterization",
   "language": "python",
   "name": "pvcharacterization"
  },
  "language_info": {
   "codemirror_mode": {
    "name": "ipython",
    "version": 3
   },
   "file_extension": ".py",
   "mimetype": "text/x-python",
   "name": "python",
   "nbconvert_exporter": "python",
   "pygments_lexer": "ipython3",
   "version": "3.9.7"
  },
  "latex_envs": {
   "LaTeX_envs_menu_present": true,
   "autoclose": false,
   "autocomplete": true,
   "bibliofile": "biblio.bib",
   "cite_by": "apalike",
   "current_citInitial": 1,
   "eqLabelWithNumbers": true,
   "eqNumInitial": 1,
   "hotkeys": {
    "equation": "Ctrl-E",
    "itemize": "Ctrl-I"
   },
   "labels_anchors": false,
   "latex_user_defs": false,
   "report_style_numbering": false,
   "user_envs_cfg": false
  },
  "varInspector": {
   "cols": {
    "lenName": 16,
    "lenType": 16,
    "lenVar": 40
   },
   "kernels_config": {
    "python": {
     "delete_cmd_postfix": "",
     "delete_cmd_prefix": "del ",
     "library": "var_list.py",
     "varRefreshCmd": "print(var_dic_list())"
    },
    "r": {
     "delete_cmd_postfix": ") ",
     "delete_cmd_prefix": "rm(",
     "library": "var_list.r",
     "varRefreshCmd": "cat(var_dic_list()) "
    }
   },
   "types_to_exclude": [
    "module",
    "function",
    "builtin_function_or_method",
    "instance",
    "_Feature"
   ],
   "window_display": false
  }
 },
 "nbformat": 4,
 "nbformat_minor": 4
}
