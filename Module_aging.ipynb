{
 "cells": [
  {
   "cell_type": "code",
   "execution_count": 1,
   "metadata": {},
   "outputs": [],
   "source": [
    "# Standard library imports\n",
    "import os\n",
    "from pathlib import Path\n",
    "\n",
    "# 3rd party imports\n",
    "import numpy as np\n",
    "import matplotlib.pyplot as plt\n",
    "import pandas as pd\n",
    "\n",
    "#in_dir = r\"C:\\Users\\franc\\PVcharacterization_files\"\n",
    "in_dir = r\"C:\\Users\\AC265100\\PVcharacterization_files\"\n",
    "list_data_base = []\n",
    "for path, _, files in os.walk(in_dir):\n",
    "    list_data_base.extend(Path(path) / Path(file) for file in files \n",
    "                                                  if file.endswith(\".csv\"))\n",
    "\n",
    "filename = list_data_base[0]\n",
    "\n",
    "meta_data = pd.read_csv(filename,\n",
    "                 sep=',',\n",
    "                 nrows=83,\n",
    "                 header=None\n",
    "                 ) # reads the meta data\n",
    "meta_data = dict(zip(meta_data[0],meta_data[1]))\n",
    "meta_data = {key.split(':')[0]:val for key,val  in meta_data.items()}\n",
    "\n",
    "df = pd.read_csv(filename,\n",
    "                 sep=',',\n",
    "                 skiprows=165\n",
    "                 ) # reads the data\n",
    "#df.plot()"
   ]
  },
  {
   "cell_type": "code",
   "execution_count": 2,
   "metadata": {},
   "outputs": [
    {
     "name": "stdout",
     "output_type": "stream",
     "text": [
      "[0, 3820, 7641, 12442, 17243, 22044, 26847]\n"
     ]
    }
   ],
   "source": [
    "index_data_header = [0]\n",
    "for ind,x in enumerate(df[' Voltage:    ']):\n",
    "    if ('Volt' in x) or  ('Ref Cell' in x):\n",
    "        index_data_header.append(ind)\n",
    "\n",
    "index_data_header.append(len(df))\n",
    "print(index_data_header)\n",
    "list_df = []\n",
    "\n",
    "delta=0\n",
    "for i in range(len(index_data_header)-1):\n",
    "    if i !=0 :\n",
    "        delta=1\n",
    "    list_df.append(df.iloc[df.index.isin(range(index_data_header[i]+delta,\n",
    "                                               index_data_header[i+1]))])    "
   ]
  },
  {
   "cell_type": "code",
   "execution_count": 7,
   "metadata": {},
   "outputs": [
    {
     "data": {
      "text/plain": [
       "[<matplotlib.lines.Line2D at 0x2ce7c6851c0>]"
      ]
     },
     "execution_count": 7,
     "metadata": {},
     "output_type": "execute_result"
    },
    {
     "data": {
      "image/png": "[encoded data removed]",
      "text/plain": [
       "<Figure size 432x288 with 1 Axes>"
      ]
     },
     "metadata": {
      "needs_background": "light"
     },
     "output_type": "display_data"
    }
   ],
   "source": [
    "def drop_wrong_values(df):\n",
    "    x = []\n",
    "    y = []\n",
    "    for data_x,data_y in zip(df[' Voltage:    '],df[' Current:']):\n",
    "        try:\n",
    "            data_x = float(data_x)\n",
    "            if data_x != 0.0:\n",
    "                x.append(data_x)\n",
    "                y.append(float(data_y))\n",
    "        except:\n",
    "            pass\n",
    "    return(x,y)\n",
    "color =[\"r\",'g','b']\n",
    "\n",
    "\n",
    "x,y = drop_wrong_values(list_df[4])\n",
    "plt.plot(x,y) #,c=color[i])\n",
    "#plt.xlim(199.5,200.8)\n",
    "\n",
    "#plt.ylim(0,0.1)\n",
    "\n",
    "    "
   ]
  },
  {
   "cell_type": "code",
   "execution_count": null,
   "metadata": {},
   "outputs": [],
   "source": [
    "x"
   ]
  },
  {
   "cell_type": "code",
   "execution_count": null,
   "metadata": {},
   "outputs": [],
   "source": [
    "meta_data"
   ]
  },
  {
   "cell_type": "code",
   "execution_count": null,
   "metadata": {},
   "outputs": [],
   "source": []
  }
 ],
 "metadata": {
  "kernelspec": {
   "display_name": "PVcharaterization",
   "language": "python",
   "name": "pvcharaterization"
  },
  "language_info": {
   "codemirror_mode": {
    "name": "ipython",
    "version": 3
   },
   "file_extension": ".py",
   "mimetype": "text/x-python",
   "name": "python",
   "nbconvert_exporter": "python",
   "pygments_lexer": "ipython3",
   "version": "3.9.7"
  },
  "latex_envs": {
   "LaTeX_envs_menu_present": true,
   "autoclose": false,
   "autocomplete": true,
   "bibliofile": "biblio.bib",
   "cite_by": "apalike",
   "current_citInitial": 1,
   "eqLabelWithNumbers": true,
   "eqNumInitial": 1,
   "hotkeys": {
    "equation": "Ctrl-E",
    "itemize": "Ctrl-I"
   },
   "labels_anchors": false,
   "latex_user_defs": false,
   "report_style_numbering": false,
   "user_envs_cfg": false
  },
  "varInspector": {
   "cols": {
    "lenName": 16,
    "lenType": 16,
    "lenVar": 40
   },
   "kernels_config": {
    "python": {
     "delete_cmd_postfix": "",
     "delete_cmd_prefix": "del ",
     "library": "var_list.py",
     "varRefreshCmd": "print(var_dic_list())"
    },
    "r": {
     "delete_cmd_postfix": ") ",
     "delete_cmd_prefix": "rm(",
     "library": "var_list.r",
     "varRefreshCmd": "cat(var_dic_list()) "
    }
   },
   "types_to_exclude": [
    "module",
    "function",
    "builtin_function_or_method",
    "instance",
    "_Feature"
   ],
   "window_display": false
  }
 },
 "nbformat": 4,
 "nbformat_minor": 4
}
