{
 "cells": [
  {
   "cell_type": "markdown",
   "metadata": {},
   "source": [
    "# Multiple plotting of modules parameters, acquired by the flash test technique, after different treatments\n",
    "\n",
    "### Introduction\n",
    "This programm plots the module parameters versus the irradiance for various module treatment. The parameters are acquired using the flash test method.\n",
    "<br/>\n",
    "The module parameters, as well as the I/V curves, are stored in .csv files which names obeys the following format:\n",
    "- UUUdddd_ddddW_Td.csv with U=[A-Z,-,_] and d=[1-9]. We have:\n",
    "  - UUUdddd_dddd is the module type the number of U is unlimited  and the  the number of digits d is limited to 50\n",
    "  - ddddW is the irradiande in W/m^2. The number of digits d must be equal to 4.\n",
    "  - Td is the treatment label. The numer of digit d is equal to 1.\n",
    "These files are stored in the *data_folder* and all its sub folders\n",
    "and can be parsed by the function *data_parsing(filepath, parse_all=True)*\n",
    "\n",
    "### Description\n",
    "</br></br>\n",
    "The program:\n",
    "1. Interactevelly defines the *data_folder* where *data_folder* must be locate is the users home directory.\n",
    "2. Recursivelly builds the list of all .csv file located in the folder *data_folder* and its sub-folders.\n",
    "3. Interactivelly selects the list modules to be analysed and build the dataframe *df_meta* containing all the data necessary to the plotting of the modules parameters\n",
    "4. Interactivelly defines the list of tuple [(T(i),T(j))], where T(i) stands for the ieme treatment.\n",
    "5. Interactivelly convert the symbolic items T(i) into the name of the treatment.\n",
    "6. For *n_params* parameters interactivelly sectected plots the *n_params* the parameters relative variation between two treatments T(k) and T(h):\n",
    "    \n",
    "   $$100\\frac{{Para{m_i}(Irradiance(n);T(h),module(m)) - Para{m_i}(Irradiance(n);T(k),module(m))}}{{Para{m_i}(Irradiance(n);T(k),module(m))}}$$\n",
    "   \n",
    "### Module description\n",
    "   \n",
    "The program relies on the module *PVcharacterization_Utils* containig the following libraries:\n",
    "1. PVcharacterization_GUI \n",
    "    - select_items\n",
    "    - select_files\n",
    "    - select_data_dir\n",
    "    - input_treatment_labels\n",
    "2. PVcharacterization_flashtest \n",
    "    - read_flashtest_file\n",
    "    - df2sqlite\n",
    "    - parse_filename\n",
    "    - sieve_files\n",
    "    - build_files_database\n",
    "    - build_metadata_dataframe\n",
    "    - assess_path_folders\n",
    "    - input_treatment_labels\n",
    "    - pv_flashtest_pca\n",
    "3. PVcharacterization_global \n",
    "    - DEFAULT_DIR (Path.home())\n",
    "    - DATA_BASE_NAME\n",
    "    - DATA_BASE_TABLE_FILE\n",
    "    - DATA_BASE_TABLE_EXP\n",
    "    - USED_COLS\n",
    "    - PARAM_UNIT_DIC\n",
    "    - IRRADIANCE_DEFAULT_LIST\n",
    "    - TREATMENT_DEFAULT_LIST\n",
    "4. PVcharacterization_image (not used)\n",
    "    - read_electolum_file\n",
    "    - py2gwyddion\n",
    "    - crop_image\n",
    "5. PVcharacterization_plot\n",
    "    - plot_params\n",
    "    - init_plot_diff \n",
    "    - plot_params_diff\n",
    "    - construct_x_y\n",
    "    \n",
    "### Nomenclature:\n",
    " - module-type (mod): ex. QCELL-2739, QCELLS901719162417702739\n",
    " - parameters (param): ex. Pmax, Voc, Isc, Fill Factor, Rseries\n",
    " - irradiance (irr): irradiance in W/m^2 \n",
    " - treatment (trt): treatment type T0, T1, T2,T2,..."
   ]
  },
  {
   "cell_type": "code",
   "execution_count": null,
   "metadata": {},
   "outputs": [],
   "source": [
    "''' \n",
    "    Creation: 2021.09.13\n",
    "    Last update: 2021.10.11\n",
    "\n",
    "    User specific paths definition\n",
    "\n",
    "'''\n",
    "#Internal import \n",
    "import PVcharacterization_Utils as pv\n",
    "\n",
    "data_folder = pv.assess_path_folders()\n",
    "df_files_descp = pv.build_files_database(data_folder)"
   ]
  },
  {
   "cell_type": "code",
   "execution_count": null,
   "metadata": {},
   "outputs": [],
   "source": [
    "''' Creation: 2021.09.13\n",
    "    Last update: 2021.09.20\n",
    "    \n",
    "    df_meta dataframe building from selected files in database DATA_BASE_NAME\n",
    "    \n",
    "'''\n",
    "#Internal import\n",
    "import PVcharacterization_Utils as pv\n",
    "\n",
    "df_meta = pv.build_metadata_dataframe(df_files_descp,data_folder)\n",
    "df_meta.describe()"
   ]
  },
  {
   "cell_type": "code",
   "execution_count": null,
   "metadata": {},
   "outputs": [],
   "source": [
    "#pv.pv_flashtest_pca(df_meta)"
   ]
  },
  {
   "cell_type": "code",
   "execution_count": null,
   "metadata": {},
   "outputs": [],
   "source": [
    "''' Creation: 2021.10.03\n",
    "    Last update: 2021.10.09\n",
    "    \n",
    "    Interactive choice of the treatment differences\n",
    "    \n",
    "    ''' \n",
    "#Internal import\n",
    "import PVcharacterization_Utils as pv\n",
    "\n",
    "list_diff = pv.init_plot_diff(df_meta)\n",
    "dic_trt_meaning = pv.input_treatment_labels(list_diff)\n",
    "#list_params = ['Pmax','Voc','Isc','Fill Factor','Rseries','bidon','trarmiz']\n",
    "#list_diff = []\n",
    "pv.plot_params_diff(df_meta,list_diff,None,dic_trt_meaning)\n"
   ]
  },
  {
   "cell_type": "code",
   "execution_count": null,
   "metadata": {},
   "outputs": [],
   "source": [
    "''' Creation: 2021.09.19\n",
    "    Last update: 2021.10.14\n",
    "    \n",
    "    Plotting of I/V curves.\n",
    "    \n",
    "    ''' \n",
    "import PVcharacterization_Utils as pv\n",
    "\n",
    "irr_select = [1000]\n",
    "name_select = [\"JINERGY3272023326035\",]\n",
    "trt_select = [\"T0\",\"T1\",\"T2\"]\n",
    "\n",
    "pv.plot_iv_curves(irr_select,name_select,trt_select,data_folder)"
   ]
  },
  {
   "cell_type": "code",
   "execution_count": null,
   "metadata": {},
   "outputs": [],
   "source": [
    "list_module_type = df_meta['module_type'].unique()\n",
    "x,y = pv.construct_x_y(df_meta,list_module_type[0],(\"T1\",\"T0\"),\"Pmax\",True)\n",
    "y[x.index(200)]"
   ]
  },
  {
   "cell_type": "code",
   "execution_count": null,
   "metadata": {},
   "outputs": [],
   "source": []
  }
 ],
 "metadata": {
  "kernelspec": {
   "display_name": "PVcharacterization",
   "language": "python",
   "name": "pvcharacterization"
  },
  "language_info": {
   "codemirror_mode": {
    "name": "ipython",
    "version": 3
   },
   "file_extension": ".py",
   "mimetype": "text/x-python",
   "name": "python",
   "nbconvert_exporter": "python",
   "pygments_lexer": "ipython3",
   "version": "3.9.7"
  },
  "latex_envs": {
   "LaTeX_envs_menu_present": true,
   "autoclose": false,
   "autocomplete": true,
   "bibliofile": "biblio.bib",
   "cite_by": "apalike",
   "current_citInitial": 1,
   "eqLabelWithNumbers": true,
   "eqNumInitial": 1,
   "hotkeys": {
    "equation": "Ctrl-E",
    "itemize": "Ctrl-I"
   },
   "labels_anchors": false,
   "latex_user_defs": false,
   "report_style_numbering": false,
   "user_envs_cfg": false
  },
  "varInspector": {
   "cols": {
    "lenName": 16,
    "lenType": 16,
    "lenVar": 40
   },
   "kernels_config": {
    "python": {
     "delete_cmd_postfix": "",
     "delete_cmd_prefix": "del ",
     "library": "var_list.py",
     "varRefreshCmd": "print(var_dic_list())"
    },
    "r": {
     "delete_cmd_postfix": ") ",
     "delete_cmd_prefix": "rm(",
     "library": "var_list.r",
     "varRefreshCmd": "cat(var_dic_list()) "
    }
   },
   "types_to_exclude": [
    "module",
    "function",
    "builtin_function_or_method",
    "instance",
    "_Feature"
   ],
   "window_display": false
  }
 },
 "nbformat": 4,
 "nbformat_minor": 4
}
