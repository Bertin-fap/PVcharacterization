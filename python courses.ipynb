{
 "cells": [
  {
   "cell_type": "markdown",
   "metadata": {},
   "source": [
    "<a id='plan'></a>\n",
    "# Plan\n",
    "1. [Python keywords](#keywords)\n",
    "2. [Built-in functions](#functions)\n",
    "3. [Python standard Library](#standard)\n",
    "4. [Python packages](#packages)\n",
    "5. [Étapes du développement d'un projet](#project)"
   ]
  },
  {
   "cell_type": "markdown",
   "metadata": {},
   "source": [
    "<a id='keywords'></a>\n",
    "# Python keywords\n",
    "**36** keywords and, as, if, else, elif, raise, True, False, None, ...\n",
    "## Pour en savoir plus\n",
    "- [Real python](https://realpython.com/python-keywords/#:~:text=Python%20Keywords%20and%20Their%20Usage%201%20Value%20Keywords%3A,Keywords%3A%20import%2C%20from%2C%20as.%20...%20More%20items...%20)\n",
    "\n",
    "[Retour au plan](#plan)"
   ]
  },
  {
   "cell_type": "code",
   "execution_count": null,
   "metadata": {},
   "outputs": [],
   "source": [
    "# Standard Library import\n",
    "import keyword\n",
    "\n",
    "for i, key_word in enumerate(keyword.kwlist):\n",
    "    print(f'{str(i).rjust(10)}: {key_word}')"
   ]
  },
  {
   "cell_type": "code",
   "execution_count": null,
   "metadata": {},
   "outputs": [],
   "source": [
    "\n",
    "list_my_keywords = [\"if\",\"None\",\"trarmiz\",\"True\",\"TRUE\",\"list\",\"max\"]\n",
    "\n",
    "for my_keyword in list_my_keywords:\n",
    "    if keyword.iskeyword(my_keyword):\n",
    "        print(f'YES, \"{my_keyword}\" is a keyword.')\n",
    "    else:\n",
    "        print(f'NO , \"{my_keyword}\" is not a keyword.')"
   ]
  },
  {
   "cell_type": "markdown",
   "metadata": {},
   "source": [
    "<a id='functions'></a>\n",
    "## Built-in Functions\n",
    "Le coeur Python inclut **69** built-in functions. Pour leur description se référer au document standard [built in function](https://docs.python.org/3/library/functions.html) <br>\n",
    "On les appelle selon la syntaxe built_in_function**()**<br>\n",
    "\n",
    "[Retour au plan](#plan)"
   ]
  },
  {
   "cell_type": "code",
   "execution_count": null,
   "metadata": {},
   "outputs": [],
   "source": [
    "'''print() and chr() are two python built-in functions.\n",
    "\n",
    "'''\n",
    "print('Hanandrana ny nahandro Malagasy i Pati'+chr(128523))"
   ]
  },
  {
   "cell_type": "code",
   "execution_count": null,
   "metadata": {},
   "outputs": [],
   "source": [
    "'''Print the type of the built-in function len() using the built-in fuctions print() and type().\n",
    "\n",
    "'''\n",
    "print(type(len))"
   ]
  },
  {
   "cell_type": "markdown",
   "metadata": {},
   "source": [
    "<a id='standard'></a>\n",
    "# Python standard library\n",
    "voir la [référence](https://docs.python.org/3/library/index.html) <br>\n",
    "par exemple math, cmath, tkinter, sqlite font pati de la bibliothèque standard<br>\n",
    "**Nécessitent un import**<br>\n",
    "\n",
    "## Pour en savoir plus\n",
    "- ouvage: \"The Python 3 Standard Library by Example by Doug Hellmann\" 1400 pages!!\n",
    "\n",
    "[Retour au plan](#plan)"
   ]
  },
  {
   "cell_type": "code",
   "execution_count": null,
   "metadata": {},
   "outputs": [],
   "source": [
    "'''Exemple du choix intérat\n",
    "'''\n",
    "import tkinter as tk\n",
    "from tkinter.colorchooser import askcolor\n",
    "from tkinter import ttk\n",
    "\n",
    "\n",
    "root = tk.Tk()\n",
    "root.title('Tkinter Color Chooser')\n",
    "root.geometry('300x150')\n",
    "\n",
    "\n",
    "def change_color():\n",
    "    colors = askcolor(title=\"Tkinter Color Chooser\")\n",
    "    root.configure(bg=colors[1])\n",
    "\n",
    "\n",
    "ttk.Button(\n",
    "    root,\n",
    "    text='Select a Color',\n",
    "    command=change_color).pack(expand=True)\n",
    "\n",
    "\n",
    "root.mainloop()"
   ]
  },
  {
   "cell_type": "markdown",
   "metadata": {},
   "source": [
    "<a id='packages'></a>\n",
    "# Python packages\n",
    "Ils sont soit internes soit externes :\n",
    "- internes: créés par le développeur et non encore distribués (non encore disponible pour la communauté des pythonistes via [PyPi](https://pypi.org/);\n",
    "- externes: disponibles sous [PyPi](https://pypi.org/) Python Packages Index;\n",
    "    - nécessitent une intallation à l'aide d'un gestionnaire de module **pip**, condas,...\n",
    "- nécessitent d'être importés.\n",
    "\n",
    "[Retour au plan](#plan)"
   ]
  },
  {
   "cell_type": "code",
   "execution_count": null,
   "metadata": {},
   "outputs": [],
   "source": [
    "'''Installation du package externe matplotlib.\n",
    "\n",
    "'''\n",
    "\n",
    "!pip install matplotlib"
   ]
  },
  {
   "cell_type": "code",
   "execution_count": null,
   "metadata": {},
   "outputs": [],
   "source": [
    "'''Exemples d'utilisation de packages standard (math) et externe (matplotlib.pyplot).\n",
    "   syntaxe : nom_package.nom_méthode(paramètres)\n",
    "\n",
    "'''\n",
    "\n",
    "# Standard libray import\n",
    "import math\n",
    "\n",
    "# 3rd party import\n",
    "import matplotlib.pyplot as plt\n",
    "\n",
    "N = 100\n",
    "x = list(range(N))\n",
    "y =[math.sin(t*math.pi/N) for t in x]\n",
    "\n",
    "plt.plot(x,y)\n",
    "plt.show()"
   ]
  },
  {
   "cell_type": "code",
   "execution_count": null,
   "metadata": {},
   "outputs": [],
   "source": [
    "'''Example of nasty bug recasting of keyword package. Use keyword package name as variable name\n",
    "\n",
    "'''\n",
    "\n",
    "# Standard Library import\n",
    "import keyword\n",
    "\n",
    "for i, keyword in enumerate(keyword.kwlist): #Ho my gosh you recast keyword !!!\n",
    "    print(f'{str(i).rjust(10)}: {keyword}')\n",
    "\n",
    "\n",
    "list_my_keywords = [\"if\",\"None\",\"trarmiz\"]\n",
    "\n",
    "for my_keyword in list_my_keywords:\n",
    "    if keyword.iskeyword(my_keyword):\n",
    "        print(f'YES, {my_keyword} is a keyword')"
   ]
  },
  {
   "cell_type": "markdown",
   "metadata": {},
   "source": [
    "<a id='project'></a>\n",
    "# Étapes du développement d'un projet\n",
    "- définir les objectifs et une architecture\n",
    "- écritures de snippets\n",
    "- rationalisation \n",
    "  - renommer les variables, éclater en fonctions, classes...\n",
    "  - création de packages\n",
    "  - respect de la norme   [PEP8]( https://www.python.org/dev/peps/pep-0008/)\n",
    "  - écrire un/des gui(s)\n",
    "- documenter\n",
    "  - [retravailler les docstrings](https://queirozf.com/entries/python-docstrings-reference-examples)\n",
    "  - générer un document Spinx\n",
    "  - diffuser sur [PyPI](https://pypi.org/)\n",
    "    \n",
    "## Pour en savoir plus\n",
    "    - Ouvrage \"Effective Python: 90 Specific Ways to Write Better Python (Brett Slatkin)\"\n",
    "    \n",
    "[Retour au plan](#plan)"
   ]
  },
  {
   "cell_type": "code",
   "execution_count": null,
   "metadata": {},
   "outputs": [],
   "source": []
  },
  {
   "cell_type": "raw",
   "metadata": {},
   "source": []
  }
 ],
 "metadata": {
  "kernelspec": {
   "display_name": "PVcharacterization",
   "language": "python",
   "name": "pvcharacterization"
  },
  "language_info": {
   "codemirror_mode": {
    "name": "ipython",
    "version": 3
   },
   "file_extension": ".py",
   "mimetype": "text/x-python",
   "name": "python",
   "nbconvert_exporter": "python",
   "pygments_lexer": "ipython3",
   "version": "3.9.7"
  },
  "latex_envs": {
   "LaTeX_envs_menu_present": true,
   "autoclose": false,
   "autocomplete": true,
   "bibliofile": "biblio.bib",
   "cite_by": "apalike",
   "current_citInitial": 1,
   "eqLabelWithNumbers": true,
   "eqNumInitial": 1,
   "hotkeys": {
    "equation": "Ctrl-E",
    "itemize": "Ctrl-I"
   },
   "labels_anchors": false,
   "latex_user_defs": false,
   "report_style_numbering": false,
   "user_envs_cfg": false
  },
  "varInspector": {
   "cols": {
    "lenName": 16,
    "lenType": 16,
    "lenVar": 40
   },
   "kernels_config": {
    "python": {
     "delete_cmd_postfix": "",
     "delete_cmd_prefix": "del ",
     "library": "var_list.py",
     "varRefreshCmd": "print(var_dic_list())"
    },
    "r": {
     "delete_cmd_postfix": ") ",
     "delete_cmd_prefix": "rm(",
     "library": "var_list.r",
     "varRefreshCmd": "cat(var_dic_list()) "
    }
   },
   "types_to_exclude": [
    "module",
    "function",
    "builtin_function_or_method",
    "instance",
    "_Feature"
   ],
   "window_display": false
  }
 },
 "nbformat": 4,
 "nbformat_minor": 4
}
