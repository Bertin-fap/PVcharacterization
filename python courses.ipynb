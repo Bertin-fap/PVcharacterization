{
 "cells": [
  {
   "cell_type": "markdown",
   "metadata": {},
   "source": [
    "<a id='plan'></a>\n",
    "# Plan\n",
    "\n",
    "### Learn python \n",
    "1. [Ressources](#ressources)\n",
    "\n",
    "\n",
    "### Introduction\n",
    "1. [Python keywords](#keywords)\n",
    "2. [Operators](#operators)\n",
    "3. [Built-in functions](#functions)\n",
    "4. [Python standard Library](#standard)\n",
    "5. [Python packages](#packages)\n",
    "6. [Étapes du développement d'un projet](#project)\n",
    "7. [Working with time](#time)\n",
    "\n",
    "### Jupyter notebook\n",
    "1. [Référence](#jupyter)"
   ]
  },
  {
   "cell_type": "markdown",
   "metadata": {},
   "source": [
    "<a id='ressources'></a>\n",
    "# Learn python ressources\n",
    "1. https://quantecon.org/lectures/index....\n",
    "2. https://automatetheboringstuff.com/\n",
    "3. https://pbpython.com/\n",
    "4. https://hackersandslackers.com/\n",
    "5. https://www.youtube.com/c/Coreyms\n",
    "6. https://www.youtube.com/user/dataschool\n",
    "7. https://www.pythoncheatsheet.org/ \n",
    "8. https://wiki.python.org/moin/\n",
    "\n",
    "[Retour au plan](#plan)"
   ]
  },
  {
   "cell_type": "markdown",
   "metadata": {},
   "source": [
    "<a id='keywords'></a>\n",
    "# Python keywords\n",
    "**36** keywords and, as, if, else, elif, raise, True, False, None, ...\n",
    "## Pour en savoir plus\n",
    "- [Real python](https://realpython.com/python-keywords/#:~:text=Python%20Keywords%20and%20Their%20Usage%201%20Value%20Keywords%3A,Keywords%3A%20import%2C%20from%2C%20as.%20...%20More%20items...%20)\n",
    "\n",
    "[Retour au plan](#plan)"
   ]
  },
  {
   "cell_type": "code",
   "execution_count": 3,
   "metadata": {},
   "outputs": [
    {
     "name": "stdout",
     "output_type": "stream",
     "text": [
      "         0: False\n",
      "         1: None\n",
      "         2: True\n",
      "         3: __peg_parser__\n",
      "         4: and\n",
      "         5: as\n",
      "         6: assert\n",
      "         7: async\n",
      "         8: await\n",
      "         9: break\n",
      "        10: class\n",
      "        11: continue\n",
      "        12: def\n",
      "        13: del\n",
      "        14: elif\n",
      "        15: else\n",
      "        16: except\n",
      "        17: finally\n",
      "        18: for\n",
      "        19: from\n",
      "        20: global\n",
      "        21: if\n",
      "        22: import\n",
      "        23: in\n",
      "        24: is\n",
      "        25: lambda\n",
      "        26: nonlocal\n",
      "        27: not\n",
      "        28: or\n",
      "        29: pass\n",
      "        30: raise\n",
      "        31: return\n",
      "        32: try\n",
      "        33: while\n",
      "        34: with\n",
      "        35: yield\n"
     ]
    }
   ],
   "source": [
    "# Standard Library import\n",
    "import keyword\n",
    "\n",
    "for i, key_word in enumerate(keyword.kwlist):\n",
    "    print(f'{str(i).rjust(10)}: {key_word}')"
   ]
  },
  {
   "cell_type": "code",
   "execution_count": 5,
   "metadata": {},
   "outputs": [
    {
     "name": "stdout",
     "output_type": "stream",
     "text": [
      "YES, \"if\" is a keyword.\n",
      "YES, \"None\" is a keyword.\n",
      "NO , \"trarmiz\" is not a keyword.\n",
      "YES, \"True\" is a keyword.\n",
      "NO , \"TRUE\" is not a keyword.\n",
      "NO , \"list\" is not a keyword.\n",
      "NO , \"max\" is not a keyword.\n",
      "YES, \"not\" is a keyword.\n",
      "YES, \"or\" is a keyword.\n",
      "YES, \"and\" is a keyword.\n"
     ]
    }
   ],
   "source": [
    "list_my_keywords = [\"if\",\"None\",\"trarmiz\",\"True\",\"TRUE\",\"list\",\"max\",\"not\",\"or\",\"and\"]\n",
    "\n",
    "for my_keyword in list_my_keywords:\n",
    "    if keyword.iskeyword(my_keyword):\n",
    "        print(f'YES, \"{my_keyword}\" is a keyword.')\n",
    "    else:\n",
    "        print(f'NO , \"{my_keyword}\" is not a keyword.')"
   ]
  },
  {
   "cell_type": "markdown",
   "metadata": {},
   "source": [
    "<a id='operators'></a>\n",
    "## Operators\n",
    "1. Arithmetic Operators +, - , \\*, /, %, //, \\**\n",
    "2. Comparison Operators ==, !=, <, >, <=, >=\n",
    "3. Logical Operators not, or, and\n",
    "4. Bitwise Operators &, |, ~, ^, >>, <<\n",
    "5. Slicing operator []\n",
    "\n",
    "\n",
    "[Retour au plan](#plan)"
   ]
  },
  {
   "cell_type": "code",
   "execution_count": 37,
   "metadata": {},
   "outputs": [
    {
     "name": "stdout",
     "output_type": "stream",
     "text": [
      "the remainder of 9 / 4 = 1\n",
      "9 mod 4 = 2\n"
     ]
    }
   ],
   "source": [
    "'''Division modulo and division remainder\n",
    "'''\n",
    "x = 9\n",
    "mod = 4\n",
    "print(f'the remainder of {x} / {mod} = {x % 4}')\n",
    "print(f'{x} mod {mod} = {x // 4}')"
   ]
  },
  {
   "cell_type": "code",
   "execution_count": 7,
   "metadata": {},
   "outputs": [
    {
     "name": "stdout",
     "output_type": "stream",
     "text": [
      "True\n",
      "False\n",
      "False False False False\n",
      "number of trues 2\n",
      "x is falsy !!!\n",
      "y is truthy !!!\n",
      "z is empty !!!!\n"
     ]
    }
   ],
   "source": [
    "'''\n",
    "Exemples d'opérateurs booléens et de comparaison.\n",
    "falsy and truthy objects\n",
    "'''\n",
    "x = 0\n",
    "y = 1\n",
    "z = []\n",
    "print(x < 10 or callable(x))\n",
    "print(bool([])) # truthy or falsy\n",
    "print(bool([]),bool(''),bool({}),bool(0))\n",
    "print(f'number of trues {True + True}')\n",
    "if not x:\n",
    "    print('x is falsy !!!')\n",
    "if y:\n",
    "    print('y is truthy !!!')\n",
    "if z :\n",
    "    print(z)\n",
    "else:\n",
    "    print('z is empty !!!!')"
   ]
  },
  {
   "cell_type": "code",
   "execution_count": 34,
   "metadata": {},
   "outputs": [
    {
     "name": "stdout",
     "output_type": "stream",
     "text": [
      "2048\n",
      "0b1100\n",
      "0b1111\n",
      "0b  -1\n",
      "0b-100\n"
     ]
    }
   ],
   "source": [
    "'''Binary operation examples\n",
    "'''\n",
    "print(2<<10)\n",
    "print(f'0b{0b0011 << 2:4b}')\n",
    "print(f'0b{0b0011 ^ 0b1100:4b}')\n",
    "print(f'0b{~(0b0011 & 0b1100):4b}') # Beware we obtain a negative number. Could you explain why ?\n",
    "print(f'0b{~0b0011 :4b}') # Beware we obtain a negative number. Could you explain why ?"
   ]
  },
  {
   "cell_type": "code",
   "execution_count": 27,
   "metadata": {},
   "outputs": [
    {
     "name": "stdout",
     "output_type": "stream",
     "text": [
      "[50, 70, 30, 20, 90, 10, 50]\n",
      "[50, 10, 90, 20, 30, 70, 50]\n",
      "[50, 90, 30]\n",
      "[70, 90]\n"
     ]
    }
   ],
   "source": [
    "'''The slicing operator\n",
    "Slicing a 1D list\n",
    "'''\n",
    "Lst = [50, 70, 30, 20, 90, 10, 50]\n",
    " \n",
    "print(Lst[::]) # print the list\n",
    "print(Lst[::-1]) # print the reversed list\n",
    "print(Lst[-1:-6:-2])\n",
    "deb = 1\n",
    "end = len(Lst) + 1\n",
    "step = 3\n",
    "\n",
    "print(Lst[deb:end:step])"
   ]
  },
  {
   "cell_type": "code",
   "execution_count": 28,
   "metadata": {},
   "outputs": [
    {
     "name": "stdout",
     "output_type": "stream",
     "text": [
      "[[64 67 99 81 82 71 43 99 97]\n",
      " [98 10 86 57 65 89 34 66 22]\n",
      " [27  6 36 99 22 36 92 85 58]\n",
      " [67 20 40  2 39 25 82 25 10]\n",
      " [85 65 22 69 23 18 45 62  8]]\n",
      "\n",
      "[[71 43 99 97]\n",
      " [89 34 66 22]\n",
      " [36 92 85 58]\n",
      " [25 82 25 10]\n",
      " [18 45 62  8]]\n",
      "\n",
      "[[86 10 98]\n",
      " [40 20 67]]\n"
     ]
    }
   ],
   "source": [
    "'''The slicing operator\n",
    "Slicing a 2D list\n",
    "'''\n",
    "import numpy as np\n",
    "\n",
    "array = np.random.randint(1,101,(5,9))\n",
    "print(array)\n",
    "print()\n",
    "print(array[:,5:])\n",
    "print()\n",
    "print(array[1:5:2,2::-1])"
   ]
  },
  {
   "cell_type": "code",
   "execution_count": 36,
   "metadata": {},
   "outputs": [
    {
     "name": "stdout",
     "output_type": "stream",
     "text": [
      "[[[ 83  43  38  54  76  68  46  48  54  34]\n",
      "  [ 90  34  63  90  54  96  99   1  50  42]\n",
      "  [ 70  43   7  21  39   5  17  37   7  86]\n",
      "  [ 10  79  97  64  35  54  52   5  67  75]\n",
      "  [ 67  26  36  68   6  49  20  91  16  48]\n",
      "  [ 79  78  95  85  65  66  57  15  18  26]\n",
      "  [ 18  80  14  53  75  39  94  92  47  51]\n",
      "  [  5  87   2  77  95  27  36  98  19  50]\n",
      "  [  7  24  36  72  74  55  56  81  60  10]\n",
      "  [ 48  33  31  34  53  36   2  34  35  89]]\n",
      "\n",
      " [[ 75  57  44  28  93  65  44  36  69  23]\n",
      "  [ 64  92  35  13  15  67  95  35  65   1]\n",
      "  [ 58  60  18  40   1   1  85  68  73  97]\n",
      "  [ 99  56  37  78  33  72  89  49  89   3]\n",
      "  [  9  89  67   7  18  81  27  54  58  52]\n",
      "  [  2  93   1  54  80  16  95  39  15  62]\n",
      "  [ 22  85  72  22  29  46  30  24  78  63]\n",
      "  [ 62  77  67  53  96  46  13  86   8  79]\n",
      "  [ 62  36  28  60  53  45  79  84  67  73]\n",
      "  [ 62  10  84 100  99  37  26  79  37  55]]\n",
      "\n",
      " [[ 94  48  43   2  45  64  86  37  65  87]\n",
      "  [ 14  73  53  42  81  35  12  74  87  51]\n",
      "  [ 45  80  92  62  19  41  85  67  69  99]\n",
      "  [ 61   8  96   1   3  33  37  81  55  54]\n",
      "  [ 39  97  97  66  14  67  17  93  92  87]\n",
      "  [ 67  69  60  73  86  95  71  74  62  57]\n",
      "  [ 26   7  34  83  50  86  20  37  32  84]\n",
      "  [ 40  79   9  94  45  98  29  73   5  23]\n",
      "  [ 49   1  45  65  93  61  19  14  55  86]\n",
      "  [  8  90  27  50  48  40  96  78  71  56]]\n",
      "\n",
      " [[ 11  60   4  47  91  35  78  51   4  34]\n",
      "  [ 99  10   1  67  19  61  54  82  88  37]\n",
      "  [ 35  43  69  49   9  11  51  35  26  92]\n",
      "  [ 76  83   4  22  32  97  76  88  12  14]\n",
      "  [ 25  19  62  39  87  46   8  21  49  88]\n",
      "  [ 50  69  53  61  84  61  19  66  79  67]\n",
      "  [ 53  70   3  64  73  33  12  21  72  72]\n",
      "  [ 37  45  79  84  79  46  76  83  27  69]\n",
      "  [ 83  88  87  94  31  74  74  73  37  75]\n",
      "  [ 54  98  89   1  69  21  35  93  97  13]]\n",
      "\n",
      " [[ 95  19  87  93  33  62   7  12  95  62]\n",
      "  [ 49  14  58  82  49  95  50  32  29  96]\n",
      "  [ 37  61  81  60  58  35  89  75  14  38]\n",
      "  [ 70  92   8  10  75  68   6  33  62   7]\n",
      "  [ 89  96  66  23 100  11  98   1  34  31]\n",
      "  [ 67  18  27   9   1  83  45   6  86  16]\n",
      "  [ 44  92  80  35  71  97  23   8  50  14]\n",
      "  [ 95  45  93  71  10  56  66  29  78  19]\n",
      "  [ 78  89  67  84  29  53   2  34  73  10]\n",
      "  [ 35  75  54  91  94  96  72 100  99  10]]\n",
      "\n",
      " [[ 43  12  87  36  94  32  50  80   4  74]\n",
      "  [ 14  12  95  38  93  64  66   2  14  24]\n",
      "  [ 76  77  42   8  66  81  69  85  55  71]\n",
      "  [ 82  66  53  87  13  18  97  49  28  62]\n",
      "  [ 91  60  47  86  76  16  20  29  72  73]\n",
      "  [ 40  82  36  99  29  41  66  62  13  43]\n",
      "  [ 81  33  46  90  80  15  25   8  88  10]\n",
      "  [ 57  50  21  11 100   7  33  19  53  74]\n",
      "  [  8  70  21  89  40  35  29  48  91  41]\n",
      "  [ 77  70  90  22  37  73  67  63  30  56]]\n",
      "\n",
      " [[ 95  75  69  35  38  84  80  23  12   9]\n",
      "  [  6  48   3  26   2  25  76 100  44  79]\n",
      "  [ 95  52  87  11  76  98  23  85  47  52]\n",
      "  [ 51   6  53  11  44  86  63  38  62  56]\n",
      "  [ 25  79  62  43  56  22  44  25  31  67]\n",
      "  [  6  85  77  56  86  89  89  85  46  24]\n",
      "  [ 11  15  38   5  39  49  27  30  78  20]\n",
      "  [ 40  49   6  71  86  49  23  39  58  61]\n",
      "  [ 23  55  65  66  60  99  60  14  71  50]\n",
      "  [  3  61  27   2  68  92  67  92  14  61]]\n",
      "\n",
      " [[ 97  12  37  98  50   8  98  63  88  88]\n",
      "  [ 87  84  46  48  93   1  95   3  12  84]\n",
      "  [ 63  43  55 100  33  63  89  44  83  73]\n",
      "  [ 52  12  64  79  86  62  58  41  74  38]\n",
      "  [ 34  91  90  32  31  15  30  97  68  44]\n",
      "  [  5  92  84  15   1  70  74  87  49  60]\n",
      "  [ 88  65  24  61  70  44  13  31  99   1]\n",
      "  [ 70  25  16  88   2  62  65  50  27  21]\n",
      "  [ 61  85  64  92  95  20  27  85  24  84]\n",
      "  [ 38  15  45   1  56  72  92  56  79  95]]\n",
      "\n",
      " [[ 56  79  39  20  21  78  15  27  73  64]\n",
      "  [ 52  25  14  42  58  26  99  73  11   2]\n",
      "  [  7  45  95  58  27   4   3  44  43  43]\n",
      "  [ 12  25  27   7  10   4  95  24  20  51]\n",
      "  [ 97  16  56 100  41  64  62  74   3  94]\n",
      "  [ 42  74  91  17  79  16  42   6  73  27]\n",
      "  [ 33  72  93  20  56  20  17  98  24  19]\n",
      "  [ 78  66  54  45 100  23  63  53  42   5]\n",
      "  [ 30  46  85  85 100  33  52  46  21  47]\n",
      "  [ 93  31  78  20  35  39  20  98  80   6]]\n",
      "\n",
      " [[ 84  78  51  21   9  87  96  12  63  52]\n",
      "  [ 92  62  53  82  87  43  39  94  21  64]\n",
      "  [ 61  61  10  57  64  30  37  81  24  41]\n",
      "  [ 22  77  66  80  61  90  19  82  65  57]\n",
      "  [ 23   3  70  61  85   6   8  40  81  94]\n",
      "  [  1  32  30  44  56  52  12  11  13  31]\n",
      "  [ 46  44  29   3  35   4  84  36  90  23]\n",
      "  [ 68  66  59   5  74  26  74  78  72   4]\n",
      "  [ 59  89  38  40  36  86   3  17  86  44]\n",
      "  [ 18  40  89  25  64   4  69  76  54  96]]]\n",
      "(10, 10, 10)\n",
      "[[[62.5  61.25 73.5  48.5  45.  ]\n",
      "  [50.5  47.25 33.25 27.75 58.75]\n",
      "  [62.5  71.   46.5  45.75 27.  ]\n",
      "  [47.5  36.5  59.   80.   41.75]\n",
      "  [28.   43.25 54.5  43.25 48.5 ]]\n",
      "\n",
      " [[72.   30.   60.   52.5  39.5 ]\n",
      "  [68.25 43.25 26.75 72.75 65.5 ]\n",
      "  [48.25 32.25 48.75 53.75 46.75]\n",
      "  [61.5  53.5  54.25 38.25 57.  ]\n",
      "  [42.5  68.   58.5  67.   58.  ]]\n",
      "\n",
      " [[57.25 35.   56.25 52.25 72.5 ]\n",
      "  [48.5  62.75 24.   67.5  69.25]\n",
      "  [68.   74.   65.5  63.75 74.5 ]\n",
      "  [38.   55.   69.75 39.75 36.  ]\n",
      "  [37.   46.75 60.5  51.75 67.  ]]\n",
      "\n",
      " [[45.   29.75 51.5  66.25 40.75]\n",
      "  [59.25 36.   37.25 62.5  36.  ]\n",
      "  [40.75 53.75 69.5  28.5  70.75]\n",
      "  [51.25 57.5  57.75 48.   60.  ]\n",
      "  [80.75 67.75 48.75 68.75 55.5 ]]\n",
      "\n",
      " [[44.25 80.   59.75 25.25 70.5 ]\n",
      "  [65.   39.75 59.   50.75 30.25]\n",
      "  [67.5  31.25 48.75 37.5  41.75]\n",
      "  [69.   69.75 58.5  31.5  40.25]\n",
      "  [69.25 74.   68.   52.   48.  ]]\n",
      "\n",
      " [[20.25 64.   70.75 49.5  29.  ]\n",
      "  [75.25 47.5  44.5  75.   54.  ]\n",
      "  [68.25 67.   40.5  44.25 50.25]\n",
      "  [55.25 42.   50.5  21.25 56.25]\n",
      "  [56.25 55.5  46.25 51.75 54.5 ]]\n",
      "\n",
      " [[56.   33.25 37.25 69.75 36.  ]\n",
      "  [51.   40.5  76.   52.25 54.25]\n",
      "  [48.75 59.5  63.25 60.75 42.  ]\n",
      "  [28.75 30.   55.75 29.75 54.25]\n",
      "  [35.5  40.   79.75 58.25 49.  ]]\n",
      "\n",
      " [[70.   57.25 38.   64.75 68.  ]\n",
      "  [42.5  74.5  61.   58.   67.  ]\n",
      "  [55.5  55.25 29.25 72.   55.25]\n",
      "  [62.   47.25 44.5  39.75 37.  ]\n",
      "  [49.75 50.5  60.75 65.   70.5 ]]\n",
      "\n",
      " [[53.   28.75 45.75 53.5  37.5 ]\n",
      "  [22.25 46.75 11.25 41.5  39.25]\n",
      "  [57.25 66.   50.   46.   49.25]\n",
      "  [62.25 53.   49.75 57.75 22.5 ]\n",
      "  [50.   67.   51.75 54.   38.5 ]]\n",
      "\n",
      " [[79.   51.75 56.5  60.25 50.  ]\n",
      "  [55.25 53.25 61.25 54.75 46.75]\n",
      "  [14.75 51.25 49.75 17.75 54.75]\n",
      "  [56.   24.   34.75 68.   47.25]\n",
      "  [51.5  48.   47.5  41.25 70.  ]]]\n"
     ]
    }
   ],
   "source": [
    "'''To summarize a very very very involved exemple !!!\n",
    "'''\n",
    "\n",
    "def binning(X,binx,biny):\n",
    "    '''Binning of 3D array X'''\n",
    "    if binx !=1 and biny !=1 :\n",
    "        assert(all([not(X.shape[1] % 2),\n",
    "                    not(X.shape[2] % 2)])), \"Invalid binning factor\"\n",
    "        X=np.array([np.array(x) for x in \n",
    "               [X[I,:,:].reshape(X.shape[1]//binx, binx, X.shape[2]//biny ,biny).mean(-1).mean(1) \n",
    "               for I in range(X.shape[0])] ])\n",
    "    return X\n",
    "\n",
    "import numpy as np\n",
    "\n",
    "array = np.random.randint(1,101,(10,10,10))\n",
    "print(array)\n",
    "print(np.shape(array))\n",
    "print(binning(array,2,2))"
   ]
  },
  {
   "cell_type": "code",
   "execution_count": 18,
   "metadata": {},
   "outputs": [
    {
     "name": "stdout",
     "output_type": "stream",
     "text": [
      "7181.784122942117 0.008532325425222883\n"
     ]
    }
   ],
   "source": [
    "'''The walrus operator (:=) with python 3.8\n",
    "'''\n",
    "\n",
    "from math import asin, cos, radians, sin, sqrt\n",
    "\n",
    "# Approximate radius of Earth in kilometers\n",
    "rad = 6371\n",
    "\n",
    "# Locations of Oslo and Vancouver\n",
    "ϕ1, λ1 = radians(59.9), radians(10.8)\n",
    "ϕ2, λ2 = radians(49.3), radians(-123.1)\n",
    "\n",
    "d =2 * rad * asin(\n",
    "     sqrt(\n",
    "         (ϕ_hav := sin((ϕ2 - ϕ1) / 2) ** 2)\n",
    "         + cos(ϕ1) * cos(ϕ2) * sin((λ2 - λ1) / 2) ** 2\n",
    "     )\n",
    " )\n",
    "print(d, ϕ_hav)"
   ]
  },
  {
   "cell_type": "markdown",
   "metadata": {},
   "source": [
    "<a id='functions'></a>\n",
    "## Built-in Functions\n",
    "Le coeur Python inclut **69** built-in functions. Pour leur description se référer au document standard [built in function](https://docs.python.org/3/library/functions.html) <br>\n",
    "On les appelle selon la syntaxe built_in_function**()**<br>\n",
    "\n",
    "[Retour au plan](#plan)"
   ]
  },
  {
   "cell_type": "code",
   "execution_count": 5,
   "metadata": {},
   "outputs": [
    {
     "name": "stdout",
     "output_type": "stream",
     "text": [
      "Hanandrana ny nahandro Malagasy i Pati😋\n",
      "\n",
      "Hello Pati\n"
     ]
    }
   ],
   "source": [
    "'''print() and chr() are two python built-in functions.\n",
    "\n",
    "'''\n",
    "print('Hanandrana ny nahandro Malagasy i Pati'+chr(128523))\n",
    "print()\n",
    "print('Hello Pati')"
   ]
  },
  {
   "cell_type": "code",
   "execution_count": 4,
   "metadata": {},
   "outputs": [
    {
     "name": "stdout",
     "output_type": "stream",
     "text": [
      "<class 'builtin_function_or_method'>\n"
     ]
    }
   ],
   "source": [
    "'''Print the type of the built-in function len() using the built-in fuctions print() and type().\n",
    "\n",
    "'''\n",
    "print(type(len))"
   ]
  },
  {
   "cell_type": "markdown",
   "metadata": {},
   "source": [
    "<a id='standard'></a>\n",
    "# Python standard library\n",
    "voir la [référence](https://docs.python.org/3/library/index.html) <br>\n",
    "par exemple math, cmath, tkinter, sqlite3 font pati de la bibliothèque standard<br>\n",
    "**Nécessitent un import**<br>\n",
    "\n",
    "## Pour en savoir plus\n",
    "- ouvage: \"The Python 3 Standard Library by Example by Doug Hellmann\" 1400 pages!!\n",
    "\n",
    "[Retour au plan](#plan)"
   ]
  },
  {
   "cell_type": "code",
   "execution_count": 40,
   "metadata": {},
   "outputs": [
    {
     "name": "stdout",
     "output_type": "stream",
     "text": [
      "rgb: (69, 234, 252), hex: #45eafc\n"
     ]
    }
   ],
   "source": [
    "'''Exemple du choix intératif d'une couleur\n",
    "'''\n",
    "import tkinter as tk\n",
    "from tkinter.colorchooser import askcolor\n",
    "from tkinter import ttk\n",
    "\n",
    "global colors\n",
    "\n",
    "root = tk.Tk()\n",
    "root.title('Tkinter Color Chooser')\n",
    "root.geometry('300x150')\n",
    "\n",
    "\n",
    "def change_color():\n",
    "    global colors\n",
    "    colors = askcolor(title=\"Tkinter Color Chooser\")\n",
    "    root.configure(bg=colors[1])\n",
    "\n",
    "\n",
    "ttk.Button(\n",
    "    root,\n",
    "    text='Select a Color',\n",
    "    command=change_color).pack(expand=True)\n",
    "\n",
    "\n",
    "root.mainloop()\n",
    "hex_col = colors[1]\n",
    "rgb_col = colors[0]\n",
    "print(f'rgb: {rgb_col}, hex: {hex_col}')"
   ]
  },
  {
   "cell_type": "markdown",
   "metadata": {},
   "source": [
    "<a id='packages'></a>\n",
    "# Python packages\n",
    "Ils sont soit internes soit externes :\n",
    "- internes: créés par le développeur et non encore distribués (non encore disponible pour la communauté des pythonistes via [PyPi](https://pypi.org/);\n",
    "- externes: disponibles sous [PyPi](https://pypi.org/) Python Packages Index;\n",
    "    - nécessitent une intallation à l'aide d'un gestionnaire de module **pip**, condas,...\n",
    "- nécessitent d'être importés.\n",
    "\n",
    "[Retour au plan](#plan)"
   ]
  },
  {
   "cell_type": "code",
   "execution_count": 7,
   "metadata": {},
   "outputs": [
    {
     "name": "stdout",
     "output_type": "stream",
     "text": [
      "Requirement already satisfied: matplotlib in c:\\users\\franc\\anaconda3\\lib\\site-packages (3.2.1)\n",
      "Requirement already satisfied: python-dateutil>=2.1 in c:\\users\\franc\\anaconda3\\lib\\site-packages (from matplotlib) (2.8.1)\n",
      "Requirement already satisfied: kiwisolver>=1.0.1 in c:\\users\\franc\\anaconda3\\lib\\site-packages (from matplotlib) (1.2.0)\n",
      "Requirement already satisfied: pyparsing!=2.0.4,!=2.1.2,!=2.1.6,>=2.0.1 in c:\\users\\franc\\anaconda3\\lib\\site-packages (from matplotlib) (2.4.7)\n",
      "Requirement already satisfied: numpy>=1.11 in c:\\users\\franc\\anaconda3\\lib\\site-packages (from matplotlib) (1.18.5)\n",
      "Requirement already satisfied: cycler>=0.10 in c:\\users\\franc\\anaconda3\\lib\\site-packages (from matplotlib) (0.10.0)\n",
      "Requirement already satisfied: six>=1.5 in c:\\users\\franc\\anaconda3\\lib\\site-packages (from python-dateutil>=2.1->matplotlib) (1.15.0)\n"
     ]
    }
   ],
   "source": [
    "'''Installation du package externe matplotlib.\n",
    "\n",
    "'''\n",
    "\n",
    "!pip install matplotlib"
   ]
  },
  {
   "cell_type": "code",
   "execution_count": 41,
   "metadata": {},
   "outputs": [
    {
     "data": {
      "image/png": "[encoded data removed]",
      "text/plain": [
       "<Figure size 432x288 with 1 Axes>"
      ]
     },
     "metadata": {
      "needs_background": "light"
     },
     "output_type": "display_data"
    }
   ],
   "source": [
    "'''Exemples d'utilisation de packages standard (math) et externe (matplotlib.pyplot).\n",
    "   syntaxe : nom_package.nom_méthode(paramètres)\n",
    "\n",
    "'''\n",
    "\n",
    "# Standard libray import\n",
    "import math\n",
    "\n",
    "# 3rd party import\n",
    "import matplotlib.pyplot as plt\n",
    "\n",
    "N = 100\n",
    "x = list(range(N))\n",
    "y = [math.sin(t*math.pi/N) for t in x]\n",
    "\n",
    "plt.plot(x,y,c='#8F833A')\n",
    "plt.show()"
   ]
  },
  {
   "cell_type": "code",
   "execution_count": 2,
   "metadata": {},
   "outputs": [
    {
     "name": "stdout",
     "output_type": "stream",
     "text": [
      "         0: False\n",
      "         1: None\n",
      "         2: True\n",
      "         3: __peg_parser__\n",
      "         4: and\n",
      "         5: as\n",
      "         6: assert\n",
      "         7: async\n",
      "         8: await\n",
      "         9: break\n",
      "        10: class\n",
      "        11: continue\n",
      "        12: def\n",
      "        13: del\n",
      "        14: elif\n",
      "        15: else\n",
      "        16: except\n",
      "        17: finally\n",
      "        18: for\n",
      "        19: from\n",
      "        20: global\n",
      "        21: if\n",
      "        22: import\n",
      "        23: in\n",
      "        24: is\n",
      "        25: lambda\n",
      "        26: nonlocal\n",
      "        27: not\n",
      "        28: or\n",
      "        29: pass\n",
      "        30: raise\n",
      "        31: return\n",
      "        32: try\n",
      "        33: while\n",
      "        34: with\n",
      "        35: yield\n",
      "YES, if is a keyword\n",
      "YES, None is a keyword\n"
     ]
    }
   ],
   "source": [
    "'''Example of nasty bug recasting of keyword package. Use keyword package name as variable name\n",
    "\n",
    "'''\n",
    "\n",
    "# Standard Library import\n",
    "import keyword\n",
    "\n",
    "for i, key_word in enumerate(keyword.kwlist): #Ho my gosh you recast keyword !!!\n",
    "    print(f'{str(i).rjust(10)}: {key_word}')\n",
    "\n",
    "\n",
    "list_my_keywords = [\"if\",\"None\",\"trarmiz\"]\n",
    "\n",
    "for my_keyword in list_my_keywords:\n",
    "    if keyword.iskeyword(my_keyword):\n",
    "        print(f'YES, {my_keyword} is a keyword')"
   ]
  },
  {
   "cell_type": "markdown",
   "metadata": {},
   "source": [
    "<a id='project'></a>\n",
    "# Étapes du développement d'un projet\n",
    "- définir les objectifs et une architecture\n",
    "- écritures de snippets\n",
    "- rationalisation \n",
    "  - [refactoring](https://www.youtube.com/watch?v=D_6ybDcU5gc)\n",
    "  - renommer les variables, éclater en fonctions, classes...\n",
    "  - écriture de [docstring](https://www.python.org/dev/peps/pep-0257/) succints\n",
    "  - création de packages\n",
    "  - respect de la norme   [PEP8]( https://www.python.org/dev/peps/pep-0008/)\n",
    "  - écrire un/des gui(s)\n",
    "- documenter\n",
    "  - [retravailler les docstrings](https://queirozf.com/entries/python-docstrings-reference-examples)\n",
    "  - générer un document Spinx\n",
    "  - diffuser sur [PyPI](https://pypi.org/)\n",
    "    \n",
    "## Pour en savoir plus\n",
    "    - Ouvrage \"Effective Python: 90 Specific Ways to Write Better Python (Brett Slatkin)\"\n",
    "    \n",
    "[Retour au plan](#plan)"
   ]
  },
  {
   "cell_type": "markdown",
   "metadata": {},
   "source": [
    "### Exemple de snippet"
   ]
  },
  {
   "cell_type": "code",
   "execution_count": 15,
   "metadata": {},
   "outputs": [
    {
     "data": {
      "text/html": [
       "<div>\n",
       "<style scoped>\n",
       "    .dataframe tbody tr th:only-of-type {\n",
       "        vertical-align: middle;\n",
       "    }\n",
       "\n",
       "    .dataframe tbody tr th {\n",
       "        vertical-align: top;\n",
       "    }\n",
       "\n",
       "    .dataframe thead th {\n",
       "        text-align: right;\n",
       "    }\n",
       "</style>\n",
       "<table border=\"1\" class=\"dataframe\">\n",
       "  <thead>\n",
       "    <tr style=\"text-align: right;\">\n",
       "      <th></th>\n",
       "      <th>A0</th>\n",
       "      <th>A1</th>\n",
       "      <th>A2</th>\n",
       "    </tr>\n",
       "  </thead>\n",
       "  <tbody>\n",
       "    <tr>\n",
       "      <th>Hetna-XDH</th>\n",
       "      <td>-9.000000e-08</td>\n",
       "      <td>1.900000e-05</td>\n",
       "      <td>-0.04750</td>\n",
       "    </tr>\n",
       "    <tr>\n",
       "      <th>Hetna-DH</th>\n",
       "      <td>-3.000000e-08</td>\n",
       "      <td>-4.636244e-20</td>\n",
       "      <td>-0.03000</td>\n",
       "    </tr>\n",
       "    <tr>\n",
       "      <th>Q cells-XDH</th>\n",
       "      <td>-1.500000e-08</td>\n",
       "      <td>1.850000e-05</td>\n",
       "      <td>-0.05625</td>\n",
       "    </tr>\n",
       "    <tr>\n",
       "      <th>Q cells-DH</th>\n",
       "      <td>9.975029e-24</td>\n",
       "      <td>-1.500000e-05</td>\n",
       "      <td>-0.03500</td>\n",
       "    </tr>\n",
       "    <tr>\n",
       "      <th>Jinergy-XDH</th>\n",
       "      <td>-1.500000e-08</td>\n",
       "      <td>1.450000e-05</td>\n",
       "      <td>-0.01875</td>\n",
       "    </tr>\n",
       "    <tr>\n",
       "      <th>Jinergy-DH</th>\n",
       "      <td>2.500000e-09</td>\n",
       "      <td>-1.250000e-05</td>\n",
       "      <td>-0.01000</td>\n",
       "    </tr>\n",
       "  </tbody>\n",
       "</table>\n",
       "</div>"
      ],
      "text/plain": [
       "                       A0            A1       A2\n",
       "Hetna-XDH   -9.000000e-08  1.900000e-05 -0.04750\n",
       "Hetna-DH    -3.000000e-08 -4.636244e-20 -0.03000\n",
       "Q cells-XDH -1.500000e-08  1.850000e-05 -0.05625\n",
       "Q cells-DH   9.975029e-24 -1.500000e-05 -0.03500\n",
       "Jinergy-XDH -1.500000e-08  1.450000e-05 -0.01875\n",
       "Jinergy-DH   2.500000e-09 -1.250000e-05 -0.01000"
      ]
     },
     "execution_count": 15,
     "metadata": {},
     "output_type": "execute_result"
    },
    {
     "data": {
      "image/png": "[encoded data removed]",
      "text/plain": [
       "<Figure size 432x288 with 1 Axes>"
      ]
     },
     "metadata": {
      "needs_background": "light"
     },
     "output_type": "display_data"
    }
   ],
   "source": [
    "import pandas as pd\n",
    "import matplotlib.pyplot as plt\n",
    "\n",
    "\n",
    "file = r'C:\\Users\\franc\\PVcharacterization_files\\essai_fit.xlsx'\n",
    "df = pd.read_excel(file)\n",
    "df.rename(columns={\"Unnamed: 0\":\"titre0\",\n",
    "                   \"Unnamed: 1\":\"titre1\"},\n",
    "         inplace=True)\n",
    "\n",
    "\n",
    "titre1_corrige = []\n",
    "list_titre = df['titre0'].tolist()\n",
    "for i, titre in enumerate(list_titre): \n",
    "    if i%2 == 1:\n",
    "        titre1_corrige.append(list_titre[i-1])\n",
    "    else:\n",
    "        titre1_corrige.append(list_titre[i])      \n",
    "df['titre0'] = titre1_corrige\n",
    "\n",
    "x = [float(y[0:-1]) for y in df.columns if 'h' in y]\n",
    "x_fit = np.linspace(min(x),max(x),200)\n",
    "\n",
    "marker = [\"o\", \"v\", \">\", \"<\", \"s\", \"p\"]\n",
    "dic_coef = {}\n",
    "for index_row in df.index:\n",
    "    label = df.iloc[index_row,0]+ '-' + df.iloc[index_row,1]\n",
    "    y = df.iloc[index_row,[2,3,4,5,6,7]].tolist()\n",
    "    \n",
    "    x_for_fit = []\n",
    "    y_for_fit = []\n",
    "    for x1, y1, test in zip(x,y,np.isnan(y)):\n",
    "        if not test:\n",
    "            x_for_fit.append(x1)\n",
    "            y_for_fit.append(y1)\n",
    "    z = np.polyfit(x_for_fit, y_for_fit, 2)\n",
    "    dic_coef[label] = z\n",
    "    p = np.poly1d(z)\n",
    "    plt.scatter(x,y,label=label,marker=marker[index_row],s=30)\n",
    "    plt.plot(x_fit,p(x_fit),'--')\n",
    "plt.legend()\n",
    "\n",
    "df_coeff = pd.DataFrame(dic_coef).T\n",
    "df_coeff.rename(columns={i:'A'+str(i) for i in range(len(df_coeff.columns))},\n",
    "         inplace=True)\n",
    "df_coeff.head(20)"
   ]
  },
  {
   "cell_type": "markdown",
   "metadata": {},
   "source": [
    "### Exemple of rationalization of the snippet"
   ]
  },
  {
   "cell_type": "code",
   "execution_count": 8,
   "metadata": {},
   "outputs": [
    {
     "data": {
      "image/png": "[encoded data removed]",
      "text/plain": [
       "<Figure size 432x288 with 1 Axes>"
      ]
     },
     "metadata": {
      "needs_background": "light"
     },
     "output_type": "display_data"
    },
    {
     "data": {
      "image/png": "[encoded data removed]",
      "text/plain": [
       "<Figure size 432x288 with 1 Axes>"
      ]
     },
     "metadata": {
      "needs_background": "light"
     },
     "output_type": "display_data"
    },
    {
     "data": {
      "image/png": "[encoded data removed]",
      "text/plain": [
       "<Figure size 432x288 with 1 Axes>"
      ]
     },
     "metadata": {
      "needs_background": "light"
     },
     "output_type": "display_data"
    },
    {
     "data": {
      "text/html": [
       "<div>\n",
       "<style scoped>\n",
       "    .dataframe tbody tr th:only-of-type {\n",
       "        vertical-align: middle;\n",
       "    }\n",
       "\n",
       "    .dataframe tbody tr th {\n",
       "        vertical-align: top;\n",
       "    }\n",
       "\n",
       "    .dataframe thead th {\n",
       "        text-align: right;\n",
       "    }\n",
       "</style>\n",
       "<table border=\"1\" class=\"dataframe\">\n",
       "  <thead>\n",
       "    <tr style=\"text-align: right;\">\n",
       "      <th></th>\n",
       "      <th>A0</th>\n",
       "      <th>A1</th>\n",
       "      <th>A2</th>\n",
       "    </tr>\n",
       "  </thead>\n",
       "  <tbody>\n",
       "    <tr>\n",
       "      <th>Hetna-DH</th>\n",
       "      <td>-3.000000e-06</td>\n",
       "      <td>1.970218e-17</td>\n",
       "      <td>-3.000</td>\n",
       "    </tr>\n",
       "    <tr>\n",
       "      <th>Hetna-XDH</th>\n",
       "      <td>-9.000000e-06</td>\n",
       "      <td>1.900000e-03</td>\n",
       "      <td>-4.750</td>\n",
       "    </tr>\n",
       "    <tr>\n",
       "      <th>Jinergy-DH</th>\n",
       "      <td>2.500000e-07</td>\n",
       "      <td>-1.250000e-03</td>\n",
       "      <td>-1.000</td>\n",
       "    </tr>\n",
       "    <tr>\n",
       "      <th>Jinergy-XDH</th>\n",
       "      <td>-1.500000e-06</td>\n",
       "      <td>1.450000e-03</td>\n",
       "      <td>-1.875</td>\n",
       "    </tr>\n",
       "    <tr>\n",
       "      <th>Q cells-DH</th>\n",
       "      <td>7.023240e-22</td>\n",
       "      <td>-1.500000e-03</td>\n",
       "      <td>-3.500</td>\n",
       "    </tr>\n",
       "    <tr>\n",
       "      <th>Q cells-XDH</th>\n",
       "      <td>-1.500000e-06</td>\n",
       "      <td>1.850000e-03</td>\n",
       "      <td>-5.625</td>\n",
       "    </tr>\n",
       "  </tbody>\n",
       "</table>\n",
       "</div>"
      ],
      "text/plain": [
       "                       A0            A1     A2\n",
       "Hetna-DH    -3.000000e-06  1.970218e-17 -3.000\n",
       "Hetna-XDH   -9.000000e-06  1.900000e-03 -4.750\n",
       "Jinergy-DH   2.500000e-07 -1.250000e-03 -1.000\n",
       "Jinergy-XDH -1.500000e-06  1.450000e-03 -1.875\n",
       "Q cells-DH   7.023240e-22 -1.500000e-03 -3.500\n",
       "Q cells-XDH -1.500000e-06  1.850000e-03 -5.625"
      ]
     },
     "execution_count": 8,
     "metadata": {},
     "output_type": "execute_result"
    }
   ],
   "source": [
    "# Standard Library imports\n",
    "from itertools import groupby\n",
    "from pathlib import Path\n",
    "\n",
    "#3rd party import\n",
    "import matplotlib.pyplot as plt\n",
    "import pandas as pd\n",
    "\n",
    "DEFAULT_DIR = Path.home()\n",
    "ORDER = 2 # Polynomial order for the regession\n",
    "marker = [\"o\", \"v\", \">\", \"<\", \"s\", \"p\"] # List of marker for the scatter plot\n",
    "Nfit = 200 # Number of points to plot the fitting polynomial\n",
    "file = DEFAULT_DIR / Path('PVcharacterization_files/essai_fit.xlsx')\n",
    "\n",
    "def read_and_clean(file):\n",
    "    \n",
    "    '''\n",
    "    The read_and_clean function reads an .xlsx file organized as flow:\n",
    "\n",
    "    ======= ===== ====== ====== =====  ===== ====== ======\n",
    "                   500h  1000h  1500h  2000h  2500h 3000h\n",
    "    Hetna   XDH    -6%    -12%   -22%  -37%     \n",
    "            DH            -6%          -15%         -30%\n",
    "    Q cells XDH    -5%    -5,50% -6%   -8%\n",
    "            DH            -5%          -6,50%       -8%\n",
    "    Jinergy XDH    -1,50% -2%    -3%   -5%\n",
    "            DH            -2%          -2,50%       -2,50%\n",
    "    ======= ===== ====== ====== =====  ===== ====== ======\n",
    "    \n",
    "    where the first colon is the module name, the second colon is the experiment name.\n",
    "    \n",
    "    The data are cleaned as follow:\n",
    "    \n",
    "    - the missing values of the column are filled as follow Hetna,Hetna,Qcell,Qcell,...\n",
    "    - for each label Hetna-XDH, Hetna-DH,... the x_clean, y_clean lists are built by retaining\n",
    "    only the (x_clean, y_clean) tuples where y_clean is not an nan.\n",
    "    \n",
    "    Args:\n",
    "       file (Path): absolute na of the .xlsx file\n",
    "       \n",
    "    Returns:\n",
    "       dic_values (list of tuples):(module,\n",
    "                                    experiment,\n",
    "                                    data_struct.x containing the x clean values\n",
    "                                    data_struct.y containing the y clean values)\n",
    "    \n",
    "    Examples:\n",
    "       [('Hetna', 'XDH',[500,1000,1500,2000],[-6,-12,-22,-37]),\n",
    "        ('Hetna','DH',[1000,2000,3000],[-6,-15,-30]),\n",
    "       ...]\n",
    "                          \n",
    "    '''\n",
    "    \n",
    "    # Standard library imports\n",
    "    from collections import namedtuple\n",
    "    \n",
    "    # 3rd party imports\n",
    "    import numpy as np\n",
    "    import pandas as pd\n",
    "\n",
    "    dic_values = {}\n",
    "    data_struct = namedtuple(\"x_y\", \n",
    "                             [\"module\",\n",
    "                              \"experiment\",\n",
    "                              \"x\",\n",
    "                              \"y\",\n",
    "                             ]\n",
    "                             )\n",
    "    \n",
    "    df = pd.read_excel(file)\n",
    "    df.rename(columns={\"Unnamed: 0\":\"module\",\n",
    "                       \"Unnamed: 1\":\"experiment\"},inplace=True)\n",
    "\n",
    "    # Takes care of missing values in the \"module\" column\n",
    "    titre1_corrige = []\n",
    "    list_titre = df['module'].tolist()\n",
    "    for i, titre in enumerate(list_titre): \n",
    "        if isinstance(titre,float): # Convoluted check for missing value \n",
    "            titre1_corrige.append(list_titre[i-1])\n",
    "        else:\n",
    "            titre1_corrige.append(list_titre[i])      \n",
    "    df['module'] = titre1_corrige\n",
    "    \n",
    "    \n",
    "    # Takes care of nan y_i data value by skipping (x_i,y_i) tuples when y_i in nan\n",
    "    x = [float(val_col[0:-1]) for val_col in df.columns if 'h' in val_col] # Built the time list\n",
    "    list_tuples =[]\n",
    "    for index_row in df.index:\n",
    "        y = df.iloc[index_row,np.r_[2:len(df.columns)]].tolist()\n",
    "        x_clean = []\n",
    "        y_clean = []\n",
    "        for x1, y1, test in zip(x,y,np.isnan(y)):\n",
    "            if not test:\n",
    "                x_clean.append(x1)\n",
    "                y_clean.append(y1*100) # Takes care of the casting to real value of -dd.dd% excel format\n",
    "\n",
    "        module, experiment = df.iloc[index_row,0], df.iloc[index_row,1]\n",
    "        list_tuples.append(data_struct(module, experiment,x_clean,y_clean))\n",
    "    \n",
    "    return list_tuples\n",
    "\n",
    "def fit_curve(x,y,dic_coef,label):\n",
    "    \n",
    "    '''\n",
    "    The function fit_curve fit the set of tuples (x_i,y_i) by a polynom of order ORDER.\n",
    "    \n",
    "    Args:\n",
    "       x (ndarray): list of absissa\n",
    "       y (ndarray): list of ordinate\n",
    "       dic_coef (dict): dict kayed by label of the fitting coefficients (use mutability)\n",
    "       \n",
    "    Returns:\n",
    "       (x_fit,y_fit) (tuple of ndarrays): x_fit list of the Nfit fitting absissa\n",
    "                                          x_fit list of the Nfit fitting ordinate\n",
    "       \n",
    "    '''\n",
    "    \n",
    "    # 3rd party imports\n",
    "    import numpy as np\n",
    "    \n",
    "    assert len(x)>= ORDER+1, f'Cannot fit {len(x)} with a polynomial of order {ORDER}'\n",
    "    \n",
    "    x_fit = np.linspace(min(x),max(x),Nfit)\n",
    "    z = np.polyfit(x, y, ORDER)\n",
    "    dic_coef[label] = z\n",
    "    p = np.poly1d(z)\n",
    "    y_fit = p(x_fit)\n",
    "    return (x_fit,y_fit)\n",
    "\n",
    "\n",
    "list_tuples = read_and_clean(file)\n",
    "\n",
    "dic_coef = {} # Contains the fitting coefficients keyed by <module>-<experiment>\n",
    "\n",
    "for module, data_tuple in groupby(sorted(list_tuples), lambda t: t[0]): # group experiments per module\n",
    "    for index, data in enumerate(list(data_tuple)): \n",
    "        x,y = data.x,data.y\n",
    "        x_fit,y_fit = fit_curve(x,y,dic_coef,module+'-'+data.experiment)\n",
    "        plt.scatter(x, y, label=data.experiment, marker=marker[index],s=30)\n",
    "        plt.plot(x_fit,y_fit,'--')\n",
    "        plt.grid(color='k', linestyle='--', linewidth=0.5)\n",
    "        plt.xlabel('Time (h)')\n",
    "        plt.ylabel('$\\Delta {P_{\\max }}(\\% )$')\n",
    "        plt.legend()\n",
    "    plt.title(f'Module:{module}')\n",
    "    plt.show()\n",
    "\n",
    "\n",
    "df_coeff = pd.DataFrame(dic_coef).T\n",
    "df_coeff.rename(columns={i:'A'+str(i) for i in range(len(df_coeff.columns))},inplace=True)\n",
    "df_coeff.head(20)"
   ]
  },
  {
   "cell_type": "markdown",
   "metadata": {},
   "source": [
    "<a id='jupyter'></a>\n",
    "## Learn Jupyter\n",
    "[Ipython and Jupyter in DEpth](https://www.youtube.com/watch?v=hgiNlxUN2V0)\n",
    "\n",
    "[Retour au plan](#plan)\n"
   ]
  },
  {
   "cell_type": "markdown",
   "metadata": {},
   "source": [
    "<a id='time'></a>\n",
    "## Working with time\n",
    "you can see\n",
    "   - [working with date python](https://www.youtube.com/watch?v=eirjjyP2qcQ&t=1426s) \n",
    "   - [Python official doc on datetime](https://docs.python.org/3/library/datetime.html#module-datetime)\n",
    "\n",
    "[Retour au plan](#plan)"
   ]
  },
  {
   "cell_type": "code",
   "execution_count": 31,
   "metadata": {},
   "outputs": [
    {
     "name": "stdout",
     "output_type": "stream",
     "text": [
      "2021-12-08T15:15:04.022842+01:00\n",
      "2021-12-08\n",
      "December 08, 2021 15:15\n",
      "2021-07-29\n",
      "2021-07-30\n",
      "2021-07-31\n",
      "2021-08-01\n",
      "2021-08-02\n",
      "2021-08-03\n",
      "2021-08-04\n",
      "2021-08-05\n",
      "2021-08-06\n",
      "2021-08-07\n",
      "2021-08-08\n",
      "2021-08-09\n",
      "2021-08-10\n",
      "2021-08-11\n",
      "2021-08-12\n",
      "2021-08-13\n",
      "2021-08-14\n",
      "2021-08-15\n",
      "2021-08-16\n",
      "2021-08-17\n",
      "2021-08-18\n",
      "2021-08-19\n",
      "2021-08-20\n",
      "2021-08-21\n",
      "2021-08-22\n",
      "2021-08-23\n",
      "2021-08-24\n",
      "2021-08-25\n",
      "2021-08-26\n",
      "2021-08-27\n",
      "2021-08-28\n",
      "2021-08-29\n",
      "2021-08-30\n",
      "2021-08-31\n",
      "2021-09-01\n",
      "2021-09-02\n",
      "2021-09-03\n",
      "2021-09-04\n",
      "2021-09-05\n"
     ]
    }
   ],
   "source": [
    "from datetime import datetime, timedelta\n",
    "from pytz import timezone\n",
    "import pytz\n",
    "\n",
    "tz = pytz.timezone('Europe/Paris')\n",
    "\n",
    "now = datetime.now()\n",
    "now = tz.localize(now)\n",
    "\n",
    "# Print datetime formatting\n",
    "print(now.isoformat())\n",
    "print(now.strftime('%Y-%m-%d'))\n",
    "print(now.strftime('%B %d, %Y %H:%M'))\n",
    "\n",
    "date = 'July 14, 2022'\n",
    "time = datetime.strptime(date,'%B %d, %Y')\n",
    "\n",
    "# Builds a list of datetimes\n",
    "start = datetime.strptime('July 28, 2021','%B %d, %Y')\n",
    "end = datetime.strptime('September 5, 2021','%B %d, %Y')\n",
    "days = [start + timedelta(days=x+1) for x in range(0, (end-start).days)]\n",
    "for day in days:\n",
    "    print(day.strftime('%Y-%m-%d'))"
   ]
  },
  {
   "cell_type": "code",
   "execution_count": 4,
   "metadata": {},
   "outputs": [
    {
     "name": "stdout",
     "output_type": "stream",
     "text": [
      "Africa/Abidjan ;Africa/Accra ;Africa/Addis_Ababa ;Africa/Algiers ;Africa/Asmara ;Africa/Asmera ;Africa/Bamako ;Africa/Bangui ;Africa/Banjul ;Africa/Bissau ;Africa/Blantyre ;Africa/Brazzaville ;Africa/Bujumbura ;Africa/Cairo ;Africa/Casablanca ;Africa/Ceuta ;Africa/Conakry ;Africa/Dakar ;Africa/Dar_es_Salaam ;Africa/Djibouti ;Africa/Douala ;Africa/El_Aaiun ;Africa/Freetown ;Africa/Gaborone ;Africa/Harare ;Africa/Johannesburg ;Africa/Juba ;Africa/Kampala ;Africa/Khartoum ;Africa/Kigali ;Africa/Kinshasa ;Africa/Lagos ;Africa/Libreville ;Africa/Lome ;Africa/Luanda ;Africa/Lubumbashi ;Africa/Lusaka ;Africa/Malabo ;Africa/Maputo ;Africa/Maseru ;Africa/Mbabane ;Africa/Mogadishu ;Africa/Monrovia ;Africa/Nairobi ;Africa/Ndjamena ;Africa/Niamey ;Africa/Nouakchott ;Africa/Ouagadougou ;Africa/Porto-Novo ;Africa/Sao_Tome ;Africa/Timbuktu ;Africa/Tripoli ;Africa/Tunis ;Africa/Windhoek ;America/Adak ;America/Anchorage ;America/Anguilla ;America/Antigua ;America/Araguaina ;America/Argentina/Buenos_Aires ;America/Argentina/Catamarca ;America/Argentina/ComodRivadavia ;America/Argentina/Cordoba ;America/Argentina/Jujuy ;America/Argentina/La_Rioja ;America/Argentina/Mendoza ;America/Argentina/Rio_Gallegos ;America/Argentina/Salta ;America/Argentina/San_Juan ;America/Argentina/San_Luis ;America/Argentina/Tucuman ;America/Argentina/Ushuaia ;America/Aruba ;America/Asuncion ;America/Atikokan ;America/Atka ;America/Bahia ;America/Bahia_Banderas ;America/Barbados ;America/Belem ;America/Belize ;America/Blanc-Sablon ;America/Boa_Vista ;America/Bogota ;America/Boise ;America/Buenos_Aires ;America/Cambridge_Bay ;America/Campo_Grande ;America/Cancun ;America/Caracas ;America/Catamarca ;America/Cayenne ;America/Cayman ;America/Chicago ;America/Chihuahua ;America/Coral_Harbour ;America/Cordoba ;America/Costa_Rica ;America/Creston ;America/Cuiaba ;America/Curacao ;America/Danmarkshavn ;America/Dawson ;America/Dawson_Creek ;America/Denver ;America/Detroit ;America/Dominica ;America/Edmonton ;America/Eirunepe ;America/El_Salvador ;America/Ensenada ;America/Fort_Nelson ;America/Fort_Wayne ;America/Fortaleza ;America/Glace_Bay ;America/Godthab ;America/Goose_Bay ;America/Grand_Turk ;America/Grenada ;America/Guadeloupe ;America/Guatemala ;America/Guayaquil ;America/Guyana ;America/Halifax ;America/Havana ;America/Hermosillo ;America/Indiana/Indianapolis ;America/Indiana/Knox ;America/Indiana/Marengo ;America/Indiana/Petersburg ;America/Indiana/Tell_City ;America/Indiana/Vevay ;America/Indiana/Vincennes ;America/Indiana/Winamac ;America/Indianapolis ;America/Inuvik ;America/Iqaluit ;America/Jamaica ;America/Jujuy ;America/Juneau ;America/Kentucky/Louisville ;America/Kentucky/Monticello ;America/Knox_IN ;America/Kralendijk ;America/La_Paz ;America/Lima ;America/Los_Angeles ;America/Louisville ;America/Lower_Princes ;America/Maceio ;America/Managua ;America/Manaus ;America/Marigot ;America/Martinique ;America/Matamoros ;America/Mazatlan ;America/Mendoza ;America/Menominee ;America/Merida ;America/Metlakatla ;America/Mexico_City ;America/Miquelon ;America/Moncton ;America/Monterrey ;America/Montevideo ;America/Montreal ;America/Montserrat ;America/Nassau ;America/New_York ;America/Nipigon ;America/Nome ;America/Noronha ;America/North_Dakota/Beulah ;America/North_Dakota/Center ;America/North_Dakota/New_Salem ;America/Nuuk ;America/Ojinaga ;America/Panama ;America/Pangnirtung ;America/Paramaribo ;America/Phoenix ;America/Port-au-Prince ;America/Port_of_Spain ;America/Porto_Acre ;America/Porto_Velho ;America/Puerto_Rico ;America/Punta_Arenas ;America/Rainy_River ;America/Rankin_Inlet ;America/Recife ;America/Regina ;America/Resolute ;America/Rio_Branco ;America/Rosario ;America/Santa_Isabel ;America/Santarem ;America/Santiago ;America/Santo_Domingo ;America/Sao_Paulo ;America/Scoresbysund ;America/Shiprock ;America/Sitka ;America/St_Barthelemy ;America/St_Johns ;America/St_Kitts ;America/St_Lucia ;America/St_Thomas ;America/St_Vincent ;America/Swift_Current ;America/Tegucigalpa ;America/Thule ;America/Thunder_Bay ;America/Tijuana ;America/Toronto ;America/Tortola ;America/Vancouver ;America/Virgin ;America/Whitehorse ;America/Winnipeg ;America/Yakutat ;America/Yellowknife ;Antarctica/Casey ;Antarctica/Davis ;Antarctica/DumontDUrville ;Antarctica/Macquarie ;Antarctica/Mawson ;Antarctica/McMurdo ;Antarctica/Palmer ;Antarctica/Rothera ;Antarctica/South_Pole ;Antarctica/Syowa ;Antarctica/Troll ;Antarctica/Vostok ;Arctic/Longyearbyen ;Asia/Aden ;Asia/Almaty ;Asia/Amman ;Asia/Anadyr ;Asia/Aqtau ;Asia/Aqtobe ;Asia/Ashgabat ;Asia/Ashkhabad ;Asia/Atyrau ;Asia/Baghdad ;Asia/Bahrain ;Asia/Baku ;Asia/Bangkok ;Asia/Barnaul ;Asia/Beirut ;Asia/Bishkek ;Asia/Brunei ;Asia/Calcutta ;Asia/Chita ;Asia/Choibalsan ;Asia/Chongqing ;Asia/Chungking ;Asia/Colombo ;Asia/Dacca ;Asia/Damascus ;Asia/Dhaka ;Asia/Dili ;Asia/Dubai ;Asia/Dushanbe ;Asia/Famagusta ;Asia/Gaza ;Asia/Harbin ;Asia/Hebron ;Asia/Ho_Chi_Minh ;Asia/Hong_Kong ;Asia/Hovd ;Asia/Irkutsk ;Asia/Istanbul ;Asia/Jakarta ;Asia/Jayapura ;Asia/Jerusalem ;Asia/Kabul ;Asia/Kamchatka ;Asia/Karachi ;Asia/Kashgar ;Asia/Kathmandu ;Asia/Katmandu ;Asia/Khandyga ;Asia/Kolkata ;Asia/Krasnoyarsk ;Asia/Kuala_Lumpur ;Asia/Kuching ;Asia/Kuwait ;Asia/Macao ;Asia/Macau ;Asia/Magadan ;Asia/Makassar ;Asia/Manila ;Asia/Muscat ;Asia/Nicosia ;Asia/Novokuznetsk ;Asia/Novosibirsk ;Asia/Omsk ;Asia/Oral ;Asia/Phnom_Penh ;Asia/Pontianak ;Asia/Pyongyang ;Asia/Qatar ;Asia/Qostanay ;Asia/Qyzylorda ;Asia/Rangoon ;Asia/Riyadh ;Asia/Saigon ;Asia/Sakhalin ;Asia/Samarkand ;Asia/Seoul ;Asia/Shanghai ;Asia/Singapore ;Asia/Srednekolymsk ;Asia/Taipei ;Asia/Tashkent ;Asia/Tbilisi ;Asia/Tehran ;Asia/Tel_Aviv ;Asia/Thimbu ;Asia/Thimphu ;Asia/Tokyo ;Asia/Tomsk ;Asia/Ujung_Pandang ;Asia/Ulaanbaatar ;Asia/Ulan_Bator ;Asia/Urumqi ;Asia/Ust-Nera ;Asia/Vientiane ;Asia/Vladivostok ;Asia/Yakutsk ;Asia/Yangon ;Asia/Yekaterinburg ;Asia/Yerevan ;Atlantic/Azores ;Atlantic/Bermuda ;Atlantic/Canary ;Atlantic/Cape_Verde ;Atlantic/Faeroe ;Atlantic/Faroe ;Atlantic/Jan_Mayen ;Atlantic/Madeira ;Atlantic/Reykjavik ;Atlantic/South_Georgia ;Atlantic/St_Helena ;Atlantic/Stanley ;Australia/ACT ;Australia/Adelaide ;Australia/Brisbane ;Australia/Broken_Hill ;Australia/Canberra ;Australia/Currie ;Australia/Darwin ;Australia/Eucla ;Australia/Hobart ;Australia/LHI ;Australia/Lindeman ;Australia/Lord_Howe ;Australia/Melbourne ;Australia/NSW ;Australia/North ;Australia/Perth ;Australia/Queensland ;Australia/South ;Australia/Sydney ;Australia/Tasmania ;Australia/Victoria ;Australia/West ;Australia/Yancowinna ;Brazil/Acre ;Brazil/DeNoronha ;Brazil/East ;Brazil/West ;CET ;CST6CDT ;Canada/Atlantic ;Canada/Central ;Canada/Eastern ;Canada/Mountain ;Canada/Newfoundland ;Canada/Pacific ;Canada/Saskatchewan ;Canada/Yukon ;Chile/Continental ;Chile/EasterIsland ;Cuba ;EET ;EST ;EST5EDT ;Egypt ;Eire ;Etc/GMT ;Etc/GMT+0 ;Etc/GMT+1 ;Etc/GMT+10 ;Etc/GMT+11 ;Etc/GMT+12 ;Etc/GMT+2 ;Etc/GMT+3 ;Etc/GMT+4 ;Etc/GMT+5 ;Etc/GMT+6 ;Etc/GMT+7 ;Etc/GMT+8 ;Etc/GMT+9 ;Etc/GMT-0 ;Etc/GMT-1 ;Etc/GMT-10 ;Etc/GMT-11 ;Etc/GMT-12 ;Etc/GMT-13 ;Etc/GMT-14 ;Etc/GMT-2 ;Etc/GMT-3 ;Etc/GMT-4 ;Etc/GMT-5 ;Etc/GMT-6 ;Etc/GMT-7 ;Etc/GMT-8 ;Etc/GMT-9 ;Etc/GMT0 ;Etc/Greenwich ;Etc/UCT ;Etc/UTC ;Etc/Universal ;Etc/Zulu ;Europe/Amsterdam ;Europe/Andorra ;Europe/Astrakhan ;Europe/Athens ;Europe/Belfast ;Europe/Belgrade ;Europe/Berlin ;Europe/Bratislava ;Europe/Brussels ;Europe/Bucharest ;Europe/Budapest ;Europe/Busingen ;Europe/Chisinau ;Europe/Copenhagen ;Europe/Dublin ;Europe/Gibraltar ;Europe/Guernsey ;Europe/Helsinki ;Europe/Isle_of_Man ;Europe/Istanbul ;Europe/Jersey ;Europe/Kaliningrad ;Europe/Kiev ;Europe/Kirov ;Europe/Lisbon ;Europe/Ljubljana ;Europe/London ;Europe/Luxembourg ;Europe/Madrid ;Europe/Malta ;Europe/Mariehamn ;Europe/Minsk ;Europe/Monaco ;Europe/Moscow ;Europe/Nicosia ;Europe/Oslo ;Europe/Paris ;Europe/Podgorica ;Europe/Prague ;Europe/Riga ;Europe/Rome ;Europe/Samara ;Europe/San_Marino ;Europe/Sarajevo ;Europe/Saratov ;Europe/Simferopol ;Europe/Skopje ;Europe/Sofia ;Europe/Stockholm ;Europe/Tallinn ;Europe/Tirane ;Europe/Tiraspol ;Europe/Ulyanovsk ;Europe/Uzhgorod ;Europe/Vaduz ;Europe/Vatican ;Europe/Vienna ;Europe/Vilnius ;Europe/Volgograd ;Europe/Warsaw ;Europe/Zagreb ;Europe/Zaporozhye ;Europe/Zurich ;GB ;GB-Eire ;GMT ;GMT+0 ;GMT-0 ;GMT0 ;Greenwich ;HST ;Hongkong ;Iceland ;Indian/Antananarivo ;Indian/Chagos ;Indian/Christmas ;Indian/Cocos ;Indian/Comoro ;Indian/Kerguelen ;Indian/Mahe ;Indian/Maldives ;Indian/Mauritius ;Indian/Mayotte ;Indian/Reunion ;Iran ;Israel ;Jamaica ;Japan ;Kwajalein ;Libya ;MET ;MST ;MST7MDT ;Mexico/BajaNorte ;Mexico/BajaSur ;Mexico/General ;NZ ;NZ-CHAT ;Navajo ;PRC ;PST8PDT ;Pacific/Apia ;Pacific/Auckland ;Pacific/Bougainville ;Pacific/Chatham ;Pacific/Chuuk ;Pacific/Easter ;Pacific/Efate ;Pacific/Enderbury ;Pacific/Fakaofo ;Pacific/Fiji ;Pacific/Funafuti ;Pacific/Galapagos ;Pacific/Gambier ;Pacific/Guadalcanal ;Pacific/Guam ;Pacific/Honolulu ;Pacific/Johnston ;Pacific/Kiritimati ;Pacific/Kosrae ;Pacific/Kwajalein ;Pacific/Majuro ;Pacific/Marquesas ;Pacific/Midway ;Pacific/Nauru ;Pacific/Niue ;Pacific/Norfolk ;Pacific/Noumea ;Pacific/Pago_Pago ;Pacific/Palau ;Pacific/Pitcairn ;Pacific/Pohnpei ;Pacific/Ponape ;Pacific/Port_Moresby ;Pacific/Rarotonga ;Pacific/Saipan ;Pacific/Samoa ;Pacific/Tahiti ;Pacific/Tarawa ;Pacific/Tongatapu ;Pacific/Truk ;Pacific/Wake ;Pacific/Wallis ;Pacific/Yap ;Poland ;Portugal ;ROC ;ROK ;Singapore ;Turkey ;UCT ;US/Alaska ;US/Aleutian ;US/Arizona ;US/Central ;US/East-Indiana ;US/Eastern ;US/Hawaii ;US/Indiana-Starke ;US/Michigan ;US/Mountain ;US/Pacific ;US/Samoa ;UTC ;Universal ;W-SU ;WET ;Zulu ;"
     ]
    }
   ],
   "source": [
    "'''List of timezones\n",
    "\n",
    "'''\n",
    "\n",
    "for tz in pytz.all_timezones:\n",
    "    print(tz,end=' ;')"
   ]
  },
  {
   "cell_type": "code",
   "execution_count": null,
   "metadata": {},
   "outputs": [],
   "source": []
  }
 ],
 "metadata": {
  "kernelspec": {
   "display_name": "PVcharacterization",
   "language": "python",
   "name": "pvcharacterization"
  },
  "language_info": {
   "codemirror_mode": {
    "name": "ipython",
    "version": 3
   },
   "file_extension": ".py",
   "mimetype": "text/x-python",
   "name": "python",
   "nbconvert_exporter": "python",
   "pygments_lexer": "ipython3",
   "version": "3.9.7"
  },
  "latex_envs": {
   "LaTeX_envs_menu_present": true,
   "autoclose": false,
   "autocomplete": true,
   "bibliofile": "biblio.bib",
   "cite_by": "apalike",
   "current_citInitial": 1,
   "eqLabelWithNumbers": true,
   "eqNumInitial": 1,
   "hotkeys": {
    "equation": "Ctrl-E",
    "itemize": "Ctrl-I"
   },
   "labels_anchors": false,
   "latex_user_defs": false,
   "report_style_numbering": false,
   "user_envs_cfg": false
  },
  "varInspector": {
   "cols": {
    "lenName": 16,
    "lenType": 16,
    "lenVar": 40
   },
   "kernels_config": {
    "python": {
     "delete_cmd_postfix": "",
     "delete_cmd_prefix": "del ",
     "library": "var_list.py",
     "varRefreshCmd": "print(var_dic_list())"
    },
    "r": {
     "delete_cmd_postfix": ") ",
     "delete_cmd_prefix": "rm(",
     "library": "var_list.r",
     "varRefreshCmd": "cat(var_dic_list()) "
    }
   },
   "types_to_exclude": [
    "module",
    "function",
    "builtin_function_or_method",
    "instance",
    "_Feature"
   ],
   "window_display": false
  }
 },
 "nbformat": 4,
 "nbformat_minor": 4
}
