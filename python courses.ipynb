{
 "cells": [
  {
   "cell_type": "markdown",
   "metadata": {},
   "source": [
    "<a id='plan'></a>\n",
    "# Plan\n",
    "\n",
    "### Introduction\n",
    "1. [Python keywords](#keywords)\n",
    "2. [Built-in functions](#functions)\n",
    "3. [Python standard Library](#standard)\n",
    "4. [Python packages](#packages)\n",
    "5. [Étapes du développement d'un projet](#project)"
   ]
  },
  {
   "cell_type": "markdown",
   "metadata": {},
   "source": [
    "<a id='keywords'></a>\n",
    "# Python keywords\n",
    "**36** keywords and, as, if, else, elif, raise, True, False, None, ...\n",
    "## Pour en savoir plus\n",
    "- [Real python](https://realpython.com/python-keywords/#:~:text=Python%20Keywords%20and%20Their%20Usage%201%20Value%20Keywords%3A,Keywords%3A%20import%2C%20from%2C%20as.%20...%20More%20items...%20)\n",
    "\n",
    "[Retour au plan](#plan)"
   ]
  },
  {
   "cell_type": "code",
   "execution_count": 1,
   "metadata": {},
   "outputs": [
    {
     "name": "stdout",
     "output_type": "stream",
     "text": [
      "         0: False\n",
      "         1: None\n",
      "         2: True\n",
      "         3: __peg_parser__\n",
      "         4: and\n",
      "         5: as\n",
      "         6: assert\n",
      "         7: async\n",
      "         8: await\n",
      "         9: break\n",
      "        10: class\n",
      "        11: continue\n",
      "        12: def\n",
      "        13: del\n",
      "        14: elif\n",
      "        15: else\n",
      "        16: except\n",
      "        17: finally\n",
      "        18: for\n",
      "        19: from\n",
      "        20: global\n",
      "        21: if\n",
      "        22: import\n",
      "        23: in\n",
      "        24: is\n",
      "        25: lambda\n",
      "        26: nonlocal\n",
      "        27: not\n",
      "        28: or\n",
      "        29: pass\n",
      "        30: raise\n",
      "        31: return\n",
      "        32: try\n",
      "        33: while\n",
      "        34: with\n",
      "        35: yield\n"
     ]
    }
   ],
   "source": [
    "# Standard Library import\n",
    "import keyword\n",
    "\n",
    "for i, key_word in enumerate(keyword.kwlist):\n",
    "    print(f'{str(i).rjust(10)}: {key_word}')"
   ]
  },
  {
   "cell_type": "code",
   "execution_count": 3,
   "metadata": {},
   "outputs": [
    {
     "name": "stdout",
     "output_type": "stream",
     "text": [
      "YES, \"if\" is a keyword.\n",
      "YES, \"None\" is a keyword.\n",
      "NO , \"trarmiz\" is not a keyword.\n",
      "YES, \"True\" is a keyword.\n",
      "NO , \"TRUE\" is not a keyword.\n",
      "NO , \"list\" is not a keyword.\n",
      "NO , \"max\" is not a keyword.\n"
     ]
    }
   ],
   "source": [
    "\n",
    "list_my_keywords = [\"if\",\"None\",\"trarmiz\",\"True\",\"TRUE\",\"list\",\"max\"]\n",
    "\n",
    "for my_keyword in list_my_keywords:\n",
    "    if keyword.iskeyword(my_keyword):\n",
    "        print(f'YES, \"{my_keyword}\" is a keyword.')\n",
    "    else:\n",
    "        print(f'NO , \"{my_keyword}\" is not a keyword.')"
   ]
  },
  {
   "cell_type": "markdown",
   "metadata": {},
   "source": [
    "<a id='functions'></a>\n",
    "## Built-in Functions\n",
    "Le coeur Python inclut **69** built-in functions. Pour leur description se référer au document standard [built in function](https://docs.python.org/3/library/functions.html) <br>\n",
    "On les appelle selon la syntaxe built_in_function**()**<br>\n",
    "\n",
    "[Retour au plan](#plan)"
   ]
  },
  {
   "cell_type": "code",
   "execution_count": 5,
   "metadata": {},
   "outputs": [
    {
     "name": "stdout",
     "output_type": "stream",
     "text": [
      "Hanandrana ny nahandro Malagasy i Pati😋\n",
      "\n",
      "Hello Pati\n"
     ]
    }
   ],
   "source": [
    "'''print() and chr() are two python built-in functions.\n",
    "\n",
    "'''\n",
    "print('Hanandrana ny nahandro Malagasy i Pati'+chr(128523))\n",
    "print()\n",
    "print('Hello Pati')"
   ]
  },
  {
   "cell_type": "code",
   "execution_count": 4,
   "metadata": {},
   "outputs": [
    {
     "name": "stdout",
     "output_type": "stream",
     "text": [
      "<class 'builtin_function_or_method'>\n"
     ]
    }
   ],
   "source": [
    "'''Print the type of the built-in function len() using the built-in fuctions print() and type().\n",
    "\n",
    "'''\n",
    "print(type(len))"
   ]
  },
  {
   "cell_type": "markdown",
   "metadata": {},
   "source": [
    "<a id='standard'></a>\n",
    "# Python standard library\n",
    "voir la [référence](https://docs.python.org/3/library/index.html) <br>\n",
    "par exemple math, cmath, tkinter, sqlite font pati de la bibliothèque standard<br>\n",
    "**Nécessitent un import**<br>\n",
    "\n",
    "## Pour en savoir plus\n",
    "- ouvage: \"The Python 3 Standard Library by Example by Doug Hellmann\" 1400 pages!!\n",
    "\n",
    "[Retour au plan](#plan)"
   ]
  },
  {
   "cell_type": "code",
   "execution_count": 6,
   "metadata": {},
   "outputs": [
    {
     "name": "stdout",
     "output_type": "stream",
     "text": [
      "rgb: (98, 160, 223), hex: #62a0df\n"
     ]
    }
   ],
   "source": [
    "'''Exemple du choix intératif d'une couleur\n",
    "'''\n",
    "import tkinter as tk\n",
    "from tkinter.colorchooser import askcolor\n",
    "from tkinter import ttk\n",
    "\n",
    "global colors\n",
    "\n",
    "root = tk.Tk()\n",
    "root.title('Tkinter Color Chooser')\n",
    "root.geometry('300x150')\n",
    "\n",
    "\n",
    "def change_color():\n",
    "    global colors\n",
    "    colors = askcolor(title=\"Tkinter Color Chooser\")\n",
    "    root.configure(bg=colors[1])\n",
    "\n",
    "\n",
    "ttk.Button(\n",
    "    root,\n",
    "    text='Select a Color',\n",
    "    command=change_color).pack(expand=True)\n",
    "\n",
    "\n",
    "root.mainloop()\n",
    "\n",
    "print(f'rgb: {colors[0]}, hex: {colors[1]}')"
   ]
  },
  {
   "cell_type": "markdown",
   "metadata": {},
   "source": [
    "<a id='packages'></a>\n",
    "# Python packages\n",
    "Ils sont soit internes soit externes :\n",
    "- internes: créés par le développeur et non encore distribués (non encore disponible pour la communauté des pythonistes via [PyPi](https://pypi.org/);\n",
    "- externes: disponibles sous [PyPi](https://pypi.org/) Python Packages Index;\n",
    "    - nécessitent une intallation à l'aide d'un gestionnaire de module **pip**, condas,...\n",
    "- nécessitent d'être importés.\n",
    "\n",
    "[Retour au plan](#plan)"
   ]
  },
  {
   "cell_type": "code",
   "execution_count": 7,
   "metadata": {},
   "outputs": [
    {
     "name": "stdout",
     "output_type": "stream",
     "text": [
      "Requirement already satisfied: matplotlib in c:\\users\\franc\\anaconda3\\lib\\site-packages (3.2.1)\n",
      "Requirement already satisfied: python-dateutil>=2.1 in c:\\users\\franc\\anaconda3\\lib\\site-packages (from matplotlib) (2.8.1)\n",
      "Requirement already satisfied: kiwisolver>=1.0.1 in c:\\users\\franc\\anaconda3\\lib\\site-packages (from matplotlib) (1.2.0)\n",
      "Requirement already satisfied: pyparsing!=2.0.4,!=2.1.2,!=2.1.6,>=2.0.1 in c:\\users\\franc\\anaconda3\\lib\\site-packages (from matplotlib) (2.4.7)\n",
      "Requirement already satisfied: numpy>=1.11 in c:\\users\\franc\\anaconda3\\lib\\site-packages (from matplotlib) (1.18.5)\n",
      "Requirement already satisfied: cycler>=0.10 in c:\\users\\franc\\anaconda3\\lib\\site-packages (from matplotlib) (0.10.0)\n",
      "Requirement already satisfied: six>=1.5 in c:\\users\\franc\\anaconda3\\lib\\site-packages (from python-dateutil>=2.1->matplotlib) (1.15.0)\n"
     ]
    }
   ],
   "source": [
    "'''Installation du package externe matplotlib.\n",
    "\n",
    "'''\n",
    "\n",
    "!pip install matplotlib"
   ]
  },
  {
   "cell_type": "code",
   "execution_count": 7,
   "metadata": {},
   "outputs": [
    {
     "data": {
      "image/png": "[encoded data removed]",
      "text/plain": [
       "<Figure size 432x288 with 1 Axes>"
      ]
     },
     "metadata": {
      "needs_background": "light"
     },
     "output_type": "display_data"
    }
   ],
   "source": [
    "'''Exemples d'utilisation de packages standard (math) et externe (matplotlib.pyplot).\n",
    "   syntaxe : nom_package.nom_méthode(paramètres)\n",
    "\n",
    "'''\n",
    "\n",
    "# Standard libray import\n",
    "import math\n",
    "\n",
    "# 3rd party import\n",
    "import matplotlib.pyplot as plt\n",
    "\n",
    "N = 100\n",
    "x = list(range(N))\n",
    "y = [math.sin(t*math.pi/N) for t in x]\n",
    "\n",
    "plt.plot(x,y)\n",
    "plt.show()"
   ]
  },
  {
   "cell_type": "code",
   "execution_count": 8,
   "metadata": {},
   "outputs": [
    {
     "name": "stdout",
     "output_type": "stream",
     "text": [
      "         0: False\n",
      "         1: None\n",
      "         2: True\n",
      "         3: __peg_parser__\n",
      "         4: and\n",
      "         5: as\n",
      "         6: assert\n",
      "         7: async\n",
      "         8: await\n",
      "         9: break\n",
      "        10: class\n",
      "        11: continue\n",
      "        12: def\n",
      "        13: del\n",
      "        14: elif\n",
      "        15: else\n",
      "        16: except\n",
      "        17: finally\n",
      "        18: for\n",
      "        19: from\n",
      "        20: global\n",
      "        21: if\n",
      "        22: import\n",
      "        23: in\n",
      "        24: is\n",
      "        25: lambda\n",
      "        26: nonlocal\n",
      "        27: not\n",
      "        28: or\n",
      "        29: pass\n",
      "        30: raise\n",
      "        31: return\n",
      "        32: try\n",
      "        33: while\n",
      "        34: with\n",
      "        35: yield\n"
     ]
    },
    {
     "ename": "AttributeError",
     "evalue": "'str' object has no attribute 'iskeyword'",
     "output_type": "error",
     "traceback": [
      "\u001b[1;31m---------------------------------------------------------------------------\u001b[0m",
      "\u001b[1;31mAttributeError\u001b[0m                            Traceback (most recent call last)",
      "\u001b[1;32mC:\\Users\\Public\\Documents\\Wondershare\\CreatorTemp/ipykernel_21600/3876465246.py\u001b[0m in \u001b[0;36m<module>\u001b[1;34m\u001b[0m\n\u001b[0;32m     13\u001b[0m \u001b[1;33m\u001b[0m\u001b[0m\n\u001b[0;32m     14\u001b[0m \u001b[1;32mfor\u001b[0m \u001b[0mmy_keyword\u001b[0m \u001b[1;32min\u001b[0m \u001b[0mlist_my_keywords\u001b[0m\u001b[1;33m:\u001b[0m\u001b[1;33m\u001b[0m\u001b[1;33m\u001b[0m\u001b[0m\n\u001b[1;32m---> 15\u001b[1;33m     \u001b[1;32mif\u001b[0m \u001b[0mkeyword\u001b[0m\u001b[1;33m.\u001b[0m\u001b[0miskeyword\u001b[0m\u001b[1;33m(\u001b[0m\u001b[0mmy_keyword\u001b[0m\u001b[1;33m)\u001b[0m\u001b[1;33m:\u001b[0m\u001b[1;33m\u001b[0m\u001b[1;33m\u001b[0m\u001b[0m\n\u001b[0m\u001b[0;32m     16\u001b[0m         \u001b[0mprint\u001b[0m\u001b[1;33m(\u001b[0m\u001b[1;34mf'YES, {my_keyword} is a keyword'\u001b[0m\u001b[1;33m)\u001b[0m\u001b[1;33m\u001b[0m\u001b[1;33m\u001b[0m\u001b[0m\n",
      "\u001b[1;31mAttributeError\u001b[0m: 'str' object has no attribute 'iskeyword'"
     ]
    }
   ],
   "source": [
    "'''Example of nasty bug recasting of keyword package. Use keyword package name as variable name\n",
    "\n",
    "'''\n",
    "\n",
    "# Standard Library import\n",
    "import keyword\n",
    "\n",
    "for i, keyword in enumerate(keyword.kwlist): #Ho my gosh you recast keyword !!!\n",
    "    print(f'{str(i).rjust(10)}: {keyword}')\n",
    "\n",
    "\n",
    "list_my_keywords = [\"if\",\"None\",\"trarmiz\"]\n",
    "\n",
    "for my_keyword in list_my_keywords:\n",
    "    if keyword.iskeyword(my_keyword):\n",
    "        print(f'YES, {my_keyword} is a keyword')"
   ]
  },
  {
   "cell_type": "markdown",
   "metadata": {},
   "source": [
    "<a id='project'></a>\n",
    "# Étapes du développement d'un projet\n",
    "- définir les objectifs et une architecture\n",
    "- écritures de snippets\n",
    "- rationalisation \n",
    "  - renommer les variables, éclater en fonctions, classes...\n",
    "  - écriture de [docstring](https://www.python.org/dev/peps/pep-0257/) succints\n",
    "  - création de packages\n",
    "  - respect de la norme   [PEP8]( https://www.python.org/dev/peps/pep-0008/)\n",
    "  - écrire un/des gui(s)\n",
    "- documenter\n",
    "  - [retravailler les docstrings](https://queirozf.com/entries/python-docstrings-reference-examples)\n",
    "  - générer un document Spinx\n",
    "  - diffuser sur [PyPI](https://pypi.org/)\n",
    "    \n",
    "## Pour en savoir plus\n",
    "    - Ouvrage \"Effective Python: 90 Specific Ways to Write Better Python (Brett Slatkin)\"\n",
    "    \n",
    "[Retour au plan](#plan)"
   ]
  },
  {
   "cell_type": "markdown",
   "metadata": {},
   "source": [
    "### Exemple of a snippet"
   ]
  },
  {
   "cell_type": "code",
   "execution_count": 11,
   "metadata": {},
   "outputs": [
    {
     "data": {
      "text/html": [
       "<div>\n",
       "<style scoped>\n",
       "    .dataframe tbody tr th:only-of-type {\n",
       "        vertical-align: middle;\n",
       "    }\n",
       "\n",
       "    .dataframe tbody tr th {\n",
       "        vertical-align: top;\n",
       "    }\n",
       "\n",
       "    .dataframe thead th {\n",
       "        text-align: right;\n",
       "    }\n",
       "</style>\n",
       "<table border=\"1\" class=\"dataframe\">\n",
       "  <thead>\n",
       "    <tr style=\"text-align: right;\">\n",
       "      <th></th>\n",
       "      <th>A0</th>\n",
       "      <th>A1</th>\n",
       "      <th>A2</th>\n",
       "    </tr>\n",
       "  </thead>\n",
       "  <tbody>\n",
       "    <tr>\n",
       "      <th>Hetna-XDH</th>\n",
       "      <td>-9.000000e-08</td>\n",
       "      <td>1.900000e-05</td>\n",
       "      <td>-0.04750</td>\n",
       "    </tr>\n",
       "    <tr>\n",
       "      <th>Hetna-DH</th>\n",
       "      <td>-3.000000e-08</td>\n",
       "      <td>-4.636244e-20</td>\n",
       "      <td>-0.03000</td>\n",
       "    </tr>\n",
       "    <tr>\n",
       "      <th>Q cells-XDH</th>\n",
       "      <td>-1.500000e-08</td>\n",
       "      <td>1.850000e-05</td>\n",
       "      <td>-0.05625</td>\n",
       "    </tr>\n",
       "    <tr>\n",
       "      <th>Q cells-DH</th>\n",
       "      <td>9.975029e-24</td>\n",
       "      <td>-1.500000e-05</td>\n",
       "      <td>-0.03500</td>\n",
       "    </tr>\n",
       "    <tr>\n",
       "      <th>Jinergy-XDH</th>\n",
       "      <td>-1.500000e-08</td>\n",
       "      <td>1.450000e-05</td>\n",
       "      <td>-0.01875</td>\n",
       "    </tr>\n",
       "    <tr>\n",
       "      <th>Jinergy-DH</th>\n",
       "      <td>2.500000e-09</td>\n",
       "      <td>-1.250000e-05</td>\n",
       "      <td>-0.01000</td>\n",
       "    </tr>\n",
       "  </tbody>\n",
       "</table>\n",
       "</div>"
      ],
      "text/plain": [
       "                       A0            A1       A2\n",
       "Hetna-XDH   -9.000000e-08  1.900000e-05 -0.04750\n",
       "Hetna-DH    -3.000000e-08 -4.636244e-20 -0.03000\n",
       "Q cells-XDH -1.500000e-08  1.850000e-05 -0.05625\n",
       "Q cells-DH   9.975029e-24 -1.500000e-05 -0.03500\n",
       "Jinergy-XDH -1.500000e-08  1.450000e-05 -0.01875\n",
       "Jinergy-DH   2.500000e-09 -1.250000e-05 -0.01000"
      ]
     },
     "execution_count": 11,
     "metadata": {},
     "output_type": "execute_result"
    },
    {
     "data": {
      "image/png": "[encoded data removed]",
      "text/plain": [
       "<Figure size 432x288 with 1 Axes>"
      ]
     },
     "metadata": {
      "needs_background": "light"
     },
     "output_type": "display_data"
    }
   ],
   "source": [
    "import pandas as pd\n",
    "import matplotlib.pyplot as plt\n",
    "\n",
    "ORDER = 2\n",
    "\n",
    "file = r'C:\\Users\\franc\\PVcharacterization_files\\essai_fit.xlsx'\n",
    "df = pd.read_excel(file)\n",
    "df.rename(columns={\"Unnamed: 0\":\"titre0\",\n",
    "                   \"Unnamed: 1\":\"titre1\"},\n",
    "         inplace=True)\n",
    "\n",
    "\n",
    "titre1_corrige = []\n",
    "list_titre = df['titre0'].tolist()\n",
    "for i, titre in enumerate(list_titre): \n",
    "    if i%2 == 1:\n",
    "        titre1_corrige.append(list_titre[i-1])\n",
    "    else:\n",
    "        titre1_corrige.append(list_titre[i])      \n",
    "df['titre0'] = titre1_corrige\n",
    "\n",
    "x = [float(y[0:-1]) for y in df.columns if 'h' in y]\n",
    "x_fit = np.linspace(min(x),max(x),200)\n",
    "\n",
    "marker = [\"o\", \"v\", \">\", \"<\", \"s\", \"p\"]\n",
    "dic_coef = {}\n",
    "for index_row in df.index:\n",
    "    label = df.iloc[index_row,0]+ '-' + df.iloc[index_row,1]\n",
    "    y = df.iloc[index_row,[2,3,4,5,6,7]].tolist()\n",
    "    \n",
    "    x_for_fit = []\n",
    "    y_for_fit = []\n",
    "    for x1, y1, test in zip(x,y,np.isnan(y)):\n",
    "        if not test:\n",
    "            x_for_fit.append(x1)\n",
    "            y_for_fit.append(y1)\n",
    "    z = np.polyfit(x_for_fit, y_for_fit, ORDER)\n",
    "    dic_coef[label] = z\n",
    "    p = np.poly1d(z)\n",
    "    plt.scatter(x,y,label=label,marker=marker[index_row],s=30)\n",
    "    plt.plot(x_fit,p(x_fit),'--')\n",
    "plt.grid(color='k', linestyle='--', linewidth=0.5)\n",
    "plt.xlabel('Time (h)')\n",
    "plt.ylabel('$\\Delta {P_{\\max }}(\\% )$')\n",
    "plt.legend()\n",
    "\n",
    "df_coeff = pd.DataFrame(dic_coef).T\n",
    "df_coeff.rename(columns={i:'A'+str(i) for i in range(len(df_coeff.columns))},\n",
    "         inplace=True)\n",
    "df_coeff.head(20)"
   ]
  },
  {
   "cell_type": "markdown",
   "metadata": {},
   "source": [
    "### Exemple of rationalization of the snippet"
   ]
  },
  {
   "cell_type": "code",
   "execution_count": 40,
   "metadata": {},
   "outputs": [
    {
     "data": {
      "image/png": "[encoded data removed]",
      "text/plain": [
       "<Figure size 432x288 with 1 Axes>"
      ]
     },
     "metadata": {
      "needs_background": "light"
     },
     "output_type": "display_data"
    },
    {
     "data": {
      "image/png": "[encoded data removed]",
      "text/plain": [
       "<Figure size 432x288 with 1 Axes>"
      ]
     },
     "metadata": {
      "needs_background": "light"
     },
     "output_type": "display_data"
    },
    {
     "data": {
      "image/png": "[encoded data removed]",
      "text/plain": [
       "<Figure size 432x288 with 1 Axes>"
      ]
     },
     "metadata": {
      "needs_background": "light"
     },
     "output_type": "display_data"
    },
    {
     "data": {
      "text/html": [
       "<div>\n",
       "<style scoped>\n",
       "    .dataframe tbody tr th:only-of-type {\n",
       "        vertical-align: middle;\n",
       "    }\n",
       "\n",
       "    .dataframe tbody tr th {\n",
       "        vertical-align: top;\n",
       "    }\n",
       "\n",
       "    .dataframe thead th {\n",
       "        text-align: right;\n",
       "    }\n",
       "</style>\n",
       "<table border=\"1\" class=\"dataframe\">\n",
       "  <thead>\n",
       "    <tr style=\"text-align: right;\">\n",
       "      <th></th>\n",
       "      <th>A0</th>\n",
       "      <th>A1</th>\n",
       "      <th>A2</th>\n",
       "    </tr>\n",
       "  </thead>\n",
       "  <tbody>\n",
       "    <tr>\n",
       "      <th>Hetna-DH</th>\n",
       "      <td>-3.000000e-06</td>\n",
       "      <td>1.970218e-17</td>\n",
       "      <td>-3.000</td>\n",
       "    </tr>\n",
       "    <tr>\n",
       "      <th>Hetna-XDH</th>\n",
       "      <td>-9.000000e-06</td>\n",
       "      <td>1.900000e-03</td>\n",
       "      <td>-4.750</td>\n",
       "    </tr>\n",
       "    <tr>\n",
       "      <th>Jinergy-DH</th>\n",
       "      <td>2.500000e-07</td>\n",
       "      <td>-1.250000e-03</td>\n",
       "      <td>-1.000</td>\n",
       "    </tr>\n",
       "    <tr>\n",
       "      <th>Jinergy-XDH</th>\n",
       "      <td>-1.500000e-06</td>\n",
       "      <td>1.450000e-03</td>\n",
       "      <td>-1.875</td>\n",
       "    </tr>\n",
       "    <tr>\n",
       "      <th>Q cells-DH</th>\n",
       "      <td>7.023240e-22</td>\n",
       "      <td>-1.500000e-03</td>\n",
       "      <td>-3.500</td>\n",
       "    </tr>\n",
       "    <tr>\n",
       "      <th>Q cells-XDH</th>\n",
       "      <td>-1.500000e-06</td>\n",
       "      <td>1.850000e-03</td>\n",
       "      <td>-5.625</td>\n",
       "    </tr>\n",
       "  </tbody>\n",
       "</table>\n",
       "</div>"
      ],
      "text/plain": [
       "                       A0            A1     A2\n",
       "Hetna-DH    -3.000000e-06  1.970218e-17 -3.000\n",
       "Hetna-XDH   -9.000000e-06  1.900000e-03 -4.750\n",
       "Jinergy-DH   2.500000e-07 -1.250000e-03 -1.000\n",
       "Jinergy-XDH -1.500000e-06  1.450000e-03 -1.875\n",
       "Q cells-DH   7.023240e-22 -1.500000e-03 -3.500\n",
       "Q cells-XDH -1.500000e-06  1.850000e-03 -5.625"
      ]
     },
     "execution_count": 40,
     "metadata": {},
     "output_type": "execute_result"
    }
   ],
   "source": [
    "# Standard Library imports\n",
    "from itertools import groupby\n",
    "from pathlib import Path\n",
    "\n",
    "#3rd party import\n",
    "import matplotlib.pyplot as plt\n",
    "import pandas as pd\n",
    "\n",
    "DEFAULT_DIR = Path.home()\n",
    "ORDER = 2 # Polynomial order for the regession\n",
    "marker = [\"o\", \"v\", \">\", \"<\", \"s\", \"p\"] # List of marker for the scatter plot\n",
    "Nfit = 200 # Number of points to plot the fitting polynomial\n",
    "file = DEFAULT_DIR / Path('PVcharacterization_files/essai_fit.xlsx')\n",
    "\n",
    "def read_and_clean(file):\n",
    "    \n",
    "    '''\n",
    "    The read_and_clean function reads an .xlsx file organized as flow:\n",
    "\n",
    "    ======= ===== ====== ====== =====  ===== ====== ======\n",
    "                   500h  1000h  1500h  2000h  2500h 3000h\n",
    "    Hetna   XDH    -6%    -12%   -22%  -37%     \n",
    "            DH            -6%          -15%         -30%\n",
    "    Q cells XDH    -5%    -5,50% -6%   -8%\n",
    "            DH            -5%          -6,50%       -8%\n",
    "    Jinergy XDH    -1,50% -2%    -3%   -5%\n",
    "            DH            -2%          -2,50%       -2,50%\n",
    "    ======= ===== ====== ====== =====  ===== ====== ======\n",
    "    \n",
    "    The data are cleaned as follow:\n",
    "    \n",
    "    - the missing values of the column are filled as follow Hetna,Hetna,Qcell,Qcell,...\n",
    "    - for each label Hetna-XDH, Hetna-DH,... the x_clean, y_clean lists are built by retaining\n",
    "    only the (x_clean, y_clean) tuples where y_clean is not an nan.\n",
    "    \n",
    "    Args:\n",
    "       file (Path): absolute na of the .xlsx file\n",
    "       \n",
    "    Returns:\n",
    "       dic_values (dict): dictionary keyed by label of the named tuples:\n",
    "                          data_struct.x containing the x clean values\n",
    "                          data_struct.y containing the y clean values\n",
    "    \n",
    "    Examples:\n",
    "       {'Hetna-XDH':([500,1000,1500,2000],[-6,-12,-22,-37]),\n",
    "       'Hetna-DH':([1000,2000,3000],[-6,-15,-30]),\n",
    "       ...}\n",
    "                          \n",
    "    '''\n",
    "    \n",
    "    # Standard library imports\n",
    "    from collections import namedtuple\n",
    "    \n",
    "    # 3rd party imports\n",
    "    import numpy as np\n",
    "    import pandas as pd\n",
    "\n",
    "    dic_values = {}\n",
    "    data_struct = namedtuple(\"x_y\", \n",
    "                             [\"x\",\n",
    "                              \"y\",\n",
    "                             ]\n",
    "                             )\n",
    "    \n",
    "    df = pd.read_excel(file)\n",
    "    df.rename(columns={\"Unnamed: 0\":\"module\",\n",
    "                       \"Unnamed: 1\":\"experiment\"},inplace=True)\n",
    "\n",
    "    # Takes care of missing values in the \"module\" column\n",
    "    titre1_corrige = []\n",
    "    list_titre = df['module'].tolist()\n",
    "    for i, titre in enumerate(list_titre): \n",
    "        if isinstance(titre,float): # Convoluted check for missing value\n",
    "            titre1_corrige.append(list_titre[i-1])\n",
    "        else:\n",
    "            titre1_corrige.append(list_titre[i])      \n",
    "    df['module'] = titre1_corrige\n",
    "    \n",
    "    \n",
    "    # Takes care of nan y_i data value by skipping (x_i,y_i) tuples when y_i in nan\n",
    "    x = [float(val_col[0:-1]) for val_col in df.columns if 'h' in val_col] # Built the time list\n",
    "    \n",
    "    for index_row in df.index:\n",
    "        label = df.iloc[index_row,0]+ '-' + df.iloc[index_row,1]\n",
    "        y = df.iloc[index_row,np.r_[2:len(df.columns)]].tolist()\n",
    "        x_clean = []\n",
    "        y_clean = []\n",
    "        for x1, y1, test in zip(x,y,np.isnan(y)):\n",
    "            if not test:\n",
    "                x_clean.append(x1)\n",
    "                y_clean.append(y1*100)\n",
    "\n",
    "        dic_values[label] = data_struct(x_clean,y_clean)\n",
    "    \n",
    "    return dic_values\n",
    "\n",
    "def fit_curve(x,y,dic_coef):\n",
    "    \n",
    "    '''\n",
    "    The function fit_curve fit the set of tuples (x_i,y_i) by a polynom of order ORDER.\n",
    "    \n",
    "    Args:\n",
    "       x (ndarray): list of absissa\n",
    "       y (ndarray): list of ordinate\n",
    "       dic_coef (dict): dict kayed by label of the fitting coefficients (use mutability)\n",
    "       \n",
    "    Returns:\n",
    "       (x_fit,y_fit) (tuple of ndarrays): x_fit list of the Nfit fitting absissa\n",
    "                                          x_fit list of the Nfit fitting ordinate\n",
    "       \n",
    "    '''\n",
    "    \n",
    "    # 3rd party imports\n",
    "    import numpy as np\n",
    "    \n",
    "    assert len(x)>= ORDER+1, f'Cannot fit {len(x)} with a polynomial of order {ORDER}'\n",
    "    x_fit = np.linspace(min(x),max(x),Nfit)\n",
    "    z = np.polyfit(x, y, ORDER)\n",
    "    dic_coef[label] = z\n",
    "    p = np.poly1d(z)\n",
    "    y_fit = p(x_fit)\n",
    "    return (x_fit,y_fit)\n",
    "\n",
    "\n",
    "dic_values = read_and_clean(file)\n",
    "\n",
    "new_list = []\n",
    "for label,values in dic_values.items():\n",
    "    module = label.split(\"-\")[0]\n",
    "    experiment = label.split(\"-\")[1]\n",
    "    new_list.append((module,experiment,values))\n",
    "\n",
    "dic_coef = {}\n",
    "index = 0\n",
    "for module, g1 in groupby(sorted(new_list), lambda t: t[0]):\n",
    "    for dd in list(g1):\n",
    "        x,y = dd[1:][1].x,dd[1:][1].y\n",
    "        experiment = dd[1:][0]\n",
    "        label = module + '-' + experiment\n",
    "        x_fit,y_fit = fit_curve(x,y,dic_coef)\n",
    "        plt.scatter(x, y, label=label, marker=marker[index],s=30)\n",
    "        plt.plot(x_fit,y_fit,'--')\n",
    "        plt.grid(color='k', linestyle='--', linewidth=0.5)\n",
    "        plt.xlabel('Time (h)')\n",
    "        plt.ylabel('$\\Delta {P_{\\max }}(\\% )$')\n",
    "        plt.legend()\n",
    "    index += 1\n",
    "    plt.show()\n",
    "\n",
    "\n",
    "df_coeff = pd.DataFrame(dic_coef).T\n",
    "df_coeff.rename(columns={i:'A'+str(i) for i in range(len(df_coeff.columns))},inplace=True)\n",
    "df_coeff.head(20)"
   ]
  },
  {
   "cell_type": "code",
   "execution_count": null,
   "metadata": {},
   "outputs": [],
   "source": []
  }
 ],
 "metadata": {
  "kernelspec": {
   "display_name": "PVcharacterization",
   "language": "python",
   "name": "pvcharacterization"
  },
  "language_info": {
   "codemirror_mode": {
    "name": "ipython",
    "version": 3
   },
   "file_extension": ".py",
   "mimetype": "text/x-python",
   "name": "python",
   "nbconvert_exporter": "python",
   "pygments_lexer": "ipython3",
   "version": "3.9.7"
  },
  "latex_envs": {
   "LaTeX_envs_menu_present": true,
   "autoclose": false,
   "autocomplete": true,
   "bibliofile": "biblio.bib",
   "cite_by": "apalike",
   "current_citInitial": 1,
   "eqLabelWithNumbers": true,
   "eqNumInitial": 1,
   "hotkeys": {
    "equation": "Ctrl-E",
    "itemize": "Ctrl-I"
   },
   "labels_anchors": false,
   "latex_user_defs": false,
   "report_style_numbering": false,
   "user_envs_cfg": false
  },
  "varInspector": {
   "cols": {
    "lenName": 16,
    "lenType": 16,
    "lenVar": 40
   },
   "kernels_config": {
    "python": {
     "delete_cmd_postfix": "",
     "delete_cmd_prefix": "del ",
     "library": "var_list.py",
     "varRefreshCmd": "print(var_dic_list())"
    },
    "r": {
     "delete_cmd_postfix": ") ",
     "delete_cmd_prefix": "rm(",
     "library": "var_list.r",
     "varRefreshCmd": "cat(var_dic_list()) "
    }
   },
   "types_to_exclude": [
    "module",
    "function",
    "builtin_function_or_method",
    "instance",
    "_Feature"
   ],
   "window_display": false
  }
 },
 "nbformat": 4,
 "nbformat_minor": 4
}
