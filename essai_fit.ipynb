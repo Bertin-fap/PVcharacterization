{
 "cells": [
  {
   "cell_type": "code",
   "execution_count": 69,
   "metadata": {},
   "outputs": [
    {
     "data": {
      "text/html": [
       "<div>\n",
       "<style scoped>\n",
       "    .dataframe tbody tr th:only-of-type {\n",
       "        vertical-align: middle;\n",
       "    }\n",
       "\n",
       "    .dataframe tbody tr th {\n",
       "        vertical-align: top;\n",
       "    }\n",
       "\n",
       "    .dataframe thead th {\n",
       "        text-align: right;\n",
       "    }\n",
       "</style>\n",
       "<table border=\"1\" class=\"dataframe\">\n",
       "  <thead>\n",
       "    <tr style=\"text-align: right;\">\n",
       "      <th></th>\n",
       "      <th>A0</th>\n",
       "      <th>A1</th>\n",
       "      <th>A2</th>\n",
       "    </tr>\n",
       "  </thead>\n",
       "  <tbody>\n",
       "    <tr>\n",
       "      <th>Hetna-XDH</th>\n",
       "      <td>-9.000000e-08</td>\n",
       "      <td>1.900000e-05</td>\n",
       "      <td>-0.04750</td>\n",
       "    </tr>\n",
       "    <tr>\n",
       "      <th>Hetna-DH</th>\n",
       "      <td>-3.000000e-08</td>\n",
       "      <td>-5.007143e-20</td>\n",
       "      <td>-0.03000</td>\n",
       "    </tr>\n",
       "    <tr>\n",
       "      <th>Q cells-XDH</th>\n",
       "      <td>-1.500000e-08</td>\n",
       "      <td>1.850000e-05</td>\n",
       "      <td>-0.05625</td>\n",
       "    </tr>\n",
       "    <tr>\n",
       "      <th>Q cells-DH</th>\n",
       "      <td>1.073247e-23</td>\n",
       "      <td>-1.500000e-05</td>\n",
       "      <td>-0.03500</td>\n",
       "    </tr>\n",
       "    <tr>\n",
       "      <th>Jinergy-XDH</th>\n",
       "      <td>-1.500000e-08</td>\n",
       "      <td>1.450000e-05</td>\n",
       "      <td>-0.01875</td>\n",
       "    </tr>\n",
       "    <tr>\n",
       "      <th>Jinergy-DH</th>\n",
       "      <td>2.500000e-09</td>\n",
       "      <td>-1.250000e-05</td>\n",
       "      <td>-0.01000</td>\n",
       "    </tr>\n",
       "  </tbody>\n",
       "</table>\n",
       "</div>"
      ],
      "text/plain": [
       "                       A0            A1       A2\n",
       "Hetna-XDH   -9.000000e-08  1.900000e-05 -0.04750\n",
       "Hetna-DH    -3.000000e-08 -5.007143e-20 -0.03000\n",
       "Q cells-XDH -1.500000e-08  1.850000e-05 -0.05625\n",
       "Q cells-DH   1.073247e-23 -1.500000e-05 -0.03500\n",
       "Jinergy-XDH -1.500000e-08  1.450000e-05 -0.01875\n",
       "Jinergy-DH   2.500000e-09 -1.250000e-05 -0.01000"
      ]
     },
     "execution_count": 69,
     "metadata": {},
     "output_type": "execute_result"
    },
    {
     "data": {
      "image/png": "[encoded data removed]",
      "text/plain": [
       "<Figure size 432x288 with 1 Axes>"
      ]
     },
     "metadata": {
      "needs_background": "light"
     },
     "output_type": "display_data"
    }
   ],
   "source": [
    "import pandas as pd\n",
    "import matplotlib.pyplot as plt\n",
    "\n",
    "ORDER = 2\n",
    "\n",
    "file = r'C:\\Users\\franc\\PVcharacterization_files\\essai_fit.xlsx'\n",
    "df = pd.read_excel(file)\n",
    "df.rename(columns={\"Unnamed: 0\":\"titre0\",\n",
    "                   \"Unnamed: 1\":\"titre1\"},\n",
    "         inplace=True)\n",
    "\n",
    "# Takes care of the nan in titr0 column\n",
    "titre1_corrige = []\n",
    "list_titre = df['titre0'].tolist()\n",
    "for i, titre in enumerate(list_titre): \n",
    "    if i%2 == 1:\n",
    "        titre1_corrige.append(list_titre[i-1])\n",
    "    else:\n",
    "        titre1_corrige.append(list_titre[i])      \n",
    "df['titre0'] = titre1_corrige\n",
    "\n",
    "x = [float(y[0:-1]) for y in df.columns if 'h' in y]\n",
    "x_fit = np.linspace(min(x),max(x),200)\n",
    "\n",
    "dic_coef = {}\n",
    "for index_row in df.index:\n",
    "    label = df.iloc[index_row,0]+ '-' + df.iloc[index_row,1]\n",
    "    y = df.iloc[index_row,[2,3,4,5,6,7]].tolist()\n",
    "    \n",
    "    x_for_fit = []\n",
    "    y_for_fit = []\n",
    "    for x1, y1, test in zip(x,y,np.isnan(y)): # skip nan for the fit\n",
    "        if not test:\n",
    "            x_for_fit.append(x1)\n",
    "            y_for_fit.append(y1)\n",
    "    z = np.polyfit(x_for_fit, y_for_fit, ORDER)\n",
    "    dic_coef[label] = z\n",
    "    p = np.poly1d(z)\n",
    "    plt.scatter(x,y,label=label)\n",
    "    plt.plot(x_fit,p(x_fit),'--')\n",
    "plt.legend()\n",
    "\n",
    "df_coeff = pd.DataFrame(dic_coef).T\n",
    "df_coeff.rename(columns={i:'A'+str(i) for i in range(len(df_coeff.columns))},\n",
    "         inplace=True)\n",
    "df_coeff.head(20)"
   ]
  },
  {
   "cell_type": "code",
   "execution_count": null,
   "metadata": {},
   "outputs": [],
   "source": []
  }
 ],
 "metadata": {
  "kernelspec": {
   "display_name": "Python 3",
   "language": "python",
   "name": "python3"
  },
  "language_info": {
   "codemirror_mode": {
    "name": "ipython",
    "version": 3
   },
   "file_extension": ".py",
   "mimetype": "text/x-python",
   "name": "python",
   "nbconvert_exporter": "python",
   "pygments_lexer": "ipython3",
   "version": "3.7.6"
  },
  "latex_envs": {
   "LaTeX_envs_menu_present": true,
   "autoclose": false,
   "autocomplete": true,
   "bibliofile": "biblio.bib",
   "cite_by": "apalike",
   "current_citInitial": 1,
   "eqLabelWithNumbers": true,
   "eqNumInitial": 1,
   "hotkeys": {
    "equation": "Ctrl-E",
    "itemize": "Ctrl-I"
   },
   "labels_anchors": false,
   "latex_user_defs": false,
   "report_style_numbering": false,
   "user_envs_cfg": false
  },
  "varInspector": {
   "cols": {
    "lenName": 16,
    "lenType": 16,
    "lenVar": 40
   },
   "kernels_config": {
    "python": {
     "delete_cmd_postfix": "",
     "delete_cmd_prefix": "del ",
     "library": "var_list.py",
     "varRefreshCmd": "print(var_dic_list())"
    },
    "r": {
     "delete_cmd_postfix": ") ",
     "delete_cmd_prefix": "rm(",
     "library": "var_list.r",
     "varRefreshCmd": "cat(var_dic_list()) "
    }
   },
   "types_to_exclude": [
    "module",
    "function",
    "builtin_function_or_method",
    "instance",
    "_Feature"
   ],
   "window_display": false
  }
 },
 "nbformat": 4,
 "nbformat_minor": 4
}
